{
 "cells": [
  {
   "cell_type": "code",
   "execution_count": 1,
   "id": "4ba9f32b",
   "metadata": {},
   "outputs": [],
   "source": [
    "import pandas as pd\n",
    "import numpy as np\n",
    "import seaborn as sns\n",
    "import matplotlib.pyplot as plt\n",
    "%matplotlib inline\n",
    "import warnings\n",
    "warnings.filterwarnings(\"ignore\")"
   ]
  },
  {
   "cell_type": "code",
   "execution_count": 2,
   "id": "f96bef02",
   "metadata": {},
   "outputs": [],
   "source": [
    "MumbaiTrain=pd.read_csv(r\"E:\\project\\python\\dataset\\Mumbai Urban Train Dataset.csv\",encoding='latin-1')"
   ]
  },
  {
   "cell_type": "code",
   "execution_count": 3,
   "id": "e2d49ebb",
   "metadata": {},
   "outputs": [
    {
     "data": {
      "text/html": [
       "<div>\n",
       "<style scoped>\n",
       "    .dataframe tbody tr th:only-of-type {\n",
       "        vertical-align: middle;\n",
       "    }\n",
       "\n",
       "    .dataframe tbody tr th {\n",
       "        vertical-align: top;\n",
       "    }\n",
       "\n",
       "    .dataframe thead th {\n",
       "        text-align: right;\n",
       "    }\n",
       "</style>\n",
       "<table border=\"1\" class=\"dataframe\">\n",
       "  <thead>\n",
       "    <tr style=\"text-align: right;\">\n",
       "      <th></th>\n",
       "      <th>Station</th>\n",
       "      <th>Station Code</th>\n",
       "      <th>Line</th>\n",
       "      <th>Distance From Previous of the Line</th>\n",
       "      <th>Time taken From Previous of the Line</th>\n",
       "      <th>About</th>\n",
       "      <th>Platforms</th>\n",
       "      <th>Tracks</th>\n",
       "      <th>Year of Opening</th>\n",
       "    </tr>\n",
       "  </thead>\n",
       "  <tbody>\n",
       "    <tr>\n",
       "      <th>0</th>\n",
       "      <td>Churchgate</td>\n",
       "      <td>CCG</td>\n",
       "      <td>Western</td>\n",
       "      <td>0 KM</td>\n",
       "      <td>0 min</td>\n",
       "      <td>The Fort area built by the British had three m...</td>\n",
       "      <td>4.0</td>\n",
       "      <td>4.0</td>\n",
       "      <td>1867.0</td>\n",
       "    </tr>\n",
       "    <tr>\n",
       "      <th>1</th>\n",
       "      <td>Marine Lines</td>\n",
       "      <td>MEL</td>\n",
       "      <td>Western</td>\n",
       "      <td>1 KM</td>\n",
       "      <td>3 min</td>\n",
       "      <td>Marine Lines (station code: MEL) is a railway ...</td>\n",
       "      <td>4.0</td>\n",
       "      <td>4.0</td>\n",
       "      <td>1867.0</td>\n",
       "    </tr>\n",
       "    <tr>\n",
       "      <th>2</th>\n",
       "      <td>Charni Road</td>\n",
       "      <td>CYR</td>\n",
       "      <td>Western</td>\n",
       "      <td>1 KM</td>\n",
       "      <td>2 min</td>\n",
       "      <td>Charni Road (formerly Churney Road, station co...</td>\n",
       "      <td>4.0</td>\n",
       "      <td>4.0</td>\n",
       "      <td>1867.0</td>\n",
       "    </tr>\n",
       "    <tr>\n",
       "      <th>3</th>\n",
       "      <td>Grant Road</td>\n",
       "      <td>GTR</td>\n",
       "      <td>Western</td>\n",
       "      <td>1 KM</td>\n",
       "      <td>3 min</td>\n",
       "      <td>Grant Road (/gra?nt/; station code: GTR), form...</td>\n",
       "      <td>4.0</td>\n",
       "      <td>4.0</td>\n",
       "      <td>1868.0</td>\n",
       "    </tr>\n",
       "    <tr>\n",
       "      <th>4</th>\n",
       "      <td>Mumbai Central</td>\n",
       "      <td>MMCT</td>\n",
       "      <td>Western</td>\n",
       "      <td>1 KM</td>\n",
       "      <td>2 min</td>\n",
       "      <td>Mumbai Central (formerly Bombay Central, stati...</td>\n",
       "      <td>9.0</td>\n",
       "      <td>9.0</td>\n",
       "      <td>1930.0</td>\n",
       "    </tr>\n",
       "  </tbody>\n",
       "</table>\n",
       "</div>"
      ],
      "text/plain": [
       "          Station Station Code     Line Distance From Previous of the Line  \\\n",
       "0      Churchgate          CCG  Western                               0 KM   \n",
       "1    Marine Lines          MEL  Western                               1 KM   \n",
       "2     Charni Road          CYR  Western                               1 KM   \n",
       "3      Grant Road          GTR  Western                               1 KM   \n",
       "4  Mumbai Central         MMCT  Western                               1 KM   \n",
       "\n",
       "  Time taken From Previous of the Line  \\\n",
       "0                                0 min   \n",
       "1                                3 min   \n",
       "2                                2 min   \n",
       "3                                3 min   \n",
       "4                                2 min   \n",
       "\n",
       "                                               About  Platforms  Tracks  \\\n",
       "0  The Fort area built by the British had three m...        4.0     4.0   \n",
       "1  Marine Lines (station code: MEL) is a railway ...        4.0     4.0   \n",
       "2  Charni Road (formerly Churney Road, station co...        4.0     4.0   \n",
       "3  Grant Road (/gra?nt/; station code: GTR), form...        4.0     4.0   \n",
       "4  Mumbai Central (formerly Bombay Central, stati...        9.0     9.0   \n",
       "\n",
       "   Year of Opening   \n",
       "0            1867.0  \n",
       "1            1867.0  \n",
       "2            1867.0  \n",
       "3            1868.0  \n",
       "4            1930.0  "
      ]
     },
     "execution_count": 3,
     "metadata": {},
     "output_type": "execute_result"
    }
   ],
   "source": [
    "MumbaiTrain.head()"
   ]
  },
  {
   "cell_type": "code",
   "execution_count": 4,
   "id": "069efae6",
   "metadata": {},
   "outputs": [
    {
     "data": {
      "text/plain": [
       "Station                                  0\n",
       "Station Code                             0\n",
       "Line                                     0\n",
       "Distance From Previous of the Line       0\n",
       "Time taken From Previous of the Line     0\n",
       "About                                    0\n",
       "Platforms                                5\n",
       "Tracks                                   9\n",
       "Year of Opening                         14\n",
       "dtype: int64"
      ]
     },
     "execution_count": 4,
     "metadata": {},
     "output_type": "execute_result"
    }
   ],
   "source": [
    "MumbaiTrain.isnull().sum()"
   ]
  },
  {
   "cell_type": "markdown",
   "id": "a28785cc",
   "metadata": {},
   "source": [
    "There are null vaules present in Platforms , Tracks and Year of Opening"
   ]
  },
  {
   "cell_type": "code",
   "execution_count": 5,
   "id": "3a052ccb",
   "metadata": {},
   "outputs": [],
   "source": [
    "MumbaiTrain.dropna(inplace=True)"
   ]
  },
  {
   "cell_type": "code",
   "execution_count": 6,
   "id": "483bf1cd",
   "metadata": {
    "scrolled": true
   },
   "outputs": [
    {
     "data": {
      "text/plain": [
       "Station                                 0\n",
       "Station Code                            0\n",
       "Line                                    0\n",
       "Distance From Previous of the Line      0\n",
       "Time taken From Previous of the Line    0\n",
       "About                                   0\n",
       "Platforms                               0\n",
       "Tracks                                  0\n",
       "Year of Opening                         0\n",
       "dtype: int64"
      ]
     },
     "execution_count": 6,
     "metadata": {},
     "output_type": "execute_result"
    }
   ],
   "source": [
    "MumbaiTrain.isnull().sum()"
   ]
  },
  {
   "cell_type": "markdown",
   "id": "4103d092",
   "metadata": {},
   "source": [
    "We removed the all the null values from Platforms ,Tracks and Year of Opening "
   ]
  },
  {
   "cell_type": "code",
   "execution_count": 7,
   "id": "e42444b0",
   "metadata": {},
   "outputs": [
    {
     "data": {
      "text/plain": [
       "Index(['Station', 'Station Code', 'Line', 'Distance From Previous of the Line',\n",
       "       'Time taken From Previous of the Line', 'About', 'Platforms', 'Tracks',\n",
       "       'Year of Opening '],\n",
       "      dtype='object')"
      ]
     },
     "execution_count": 7,
     "metadata": {},
     "output_type": "execute_result"
    }
   ],
   "source": [
    "MumbaiTrain.columns"
   ]
  },
  {
   "cell_type": "markdown",
   "id": "4f8a7ece",
   "metadata": {},
   "source": [
    "There is extra space present in 'year of opening ' column"
   ]
  },
  {
   "cell_type": "code",
   "execution_count": 8,
   "id": "6d3611c4",
   "metadata": {},
   "outputs": [],
   "source": [
    "MumbaiTrain=MumbaiTrain.rename(columns={\"Year of Opening \":\"Year of Opening\"})"
   ]
  },
  {
   "cell_type": "code",
   "execution_count": 9,
   "id": "dcfb7b04",
   "metadata": {},
   "outputs": [
    {
     "data": {
      "text/plain": [
       "Index(['Station', 'Station Code', 'Line', 'Distance From Previous of the Line',\n",
       "       'Time taken From Previous of the Line', 'About', 'Platforms', 'Tracks',\n",
       "       'Year of Opening'],\n",
       "      dtype='object')"
      ]
     },
     "execution_count": 9,
     "metadata": {},
     "output_type": "execute_result"
    }
   ],
   "source": [
    "MumbaiTrain.columns"
   ]
  },
  {
   "cell_type": "code",
   "execution_count": 10,
   "id": "2f8733f0",
   "metadata": {},
   "outputs": [
    {
     "data": {
      "text/plain": [
       "Station                                  object\n",
       "Station Code                             object\n",
       "Line                                     object\n",
       "Distance From Previous of the Line       object\n",
       "Time taken From Previous of the Line     object\n",
       "About                                    object\n",
       "Platforms                               float64\n",
       "Tracks                                  float64\n",
       "Year of Opening                         float64\n",
       "dtype: object"
      ]
     },
     "execution_count": 10,
     "metadata": {},
     "output_type": "execute_result"
    }
   ],
   "source": [
    "MumbaiTrain.dtypes"
   ]
  },
  {
   "cell_type": "markdown",
   "id": "adf83aed",
   "metadata": {},
   "source": [
    "We change the datatype of 'Platforms','Tracks' and 'Year of Opening' into INT datatype"
   ]
  },
  {
   "cell_type": "code",
   "execution_count": 11,
   "id": "bc48fd3b",
   "metadata": {},
   "outputs": [],
   "source": [
    "MumbaiTrain[['Platforms','Tracks','Year of Opening']]=MumbaiTrain[['Platforms','Tracks','Year of Opening']].astype(int)"
   ]
  },
  {
   "cell_type": "code",
   "execution_count": 12,
   "id": "2690b8e9",
   "metadata": {},
   "outputs": [
    {
     "data": {
      "text/plain": [
       "Station                                 object\n",
       "Station Code                            object\n",
       "Line                                    object\n",
       "Distance From Previous of the Line      object\n",
       "Time taken From Previous of the Line    object\n",
       "About                                   object\n",
       "Platforms                                int32\n",
       "Tracks                                   int32\n",
       "Year of Opening                          int32\n",
       "dtype: object"
      ]
     },
     "execution_count": 12,
     "metadata": {},
     "output_type": "execute_result"
    }
   ],
   "source": [
    "MumbaiTrain.dtypes"
   ]
  },
  {
   "cell_type": "markdown",
   "id": "1bd5da9d",
   "metadata": {},
   "source": [
    "we change the datatype of 'Distance From Previous of the Line' and 'Time taken From Previous of the Line' into INT for our further visualization and also changing the name"
   ]
  },
  {
   "cell_type": "code",
   "execution_count": 13,
   "id": "be5ffa37",
   "metadata": {},
   "outputs": [],
   "source": [
    "MumbaiTrain['Time taken From Previous of the Line']=MumbaiTrain['Time taken From Previous of the Line'].str.replace(\" min\", \"\").astype(int)"
   ]
  },
  {
   "cell_type": "code",
   "execution_count": 14,
   "id": "5f250218",
   "metadata": {},
   "outputs": [],
   "source": [
    "MumbaiTrain['Distance From Previous of the Line']=MumbaiTrain['Distance From Previous of the Line'].str.replace(\" KM\", \"\").astype(int)"
   ]
  },
  {
   "cell_type": "code",
   "execution_count": 15,
   "id": "c9948911",
   "metadata": {},
   "outputs": [],
   "source": [
    "MumbaiTrain.rename(columns={\"Time taken From Previous of the Line\":\"Time taken From Previous of the Line(min)\",\"Distance From Previous of the Line\":'Distance From Previous of the Line(KM)'},inplace=True)"
   ]
  },
  {
   "cell_type": "code",
   "execution_count": 16,
   "id": "e942be18",
   "metadata": {},
   "outputs": [
    {
     "data": {
      "text/html": [
       "<div>\n",
       "<style scoped>\n",
       "    .dataframe tbody tr th:only-of-type {\n",
       "        vertical-align: middle;\n",
       "    }\n",
       "\n",
       "    .dataframe tbody tr th {\n",
       "        vertical-align: top;\n",
       "    }\n",
       "\n",
       "    .dataframe thead th {\n",
       "        text-align: right;\n",
       "    }\n",
       "</style>\n",
       "<table border=\"1\" class=\"dataframe\">\n",
       "  <thead>\n",
       "    <tr style=\"text-align: right;\">\n",
       "      <th></th>\n",
       "      <th>Station</th>\n",
       "      <th>Station Code</th>\n",
       "      <th>Line</th>\n",
       "      <th>Distance From Previous of the Line(KM)</th>\n",
       "      <th>Time taken From Previous of the Line(min)</th>\n",
       "      <th>About</th>\n",
       "      <th>Platforms</th>\n",
       "      <th>Tracks</th>\n",
       "      <th>Year of Opening</th>\n",
       "    </tr>\n",
       "  </thead>\n",
       "  <tbody>\n",
       "    <tr>\n",
       "      <th>0</th>\n",
       "      <td>Churchgate</td>\n",
       "      <td>CCG</td>\n",
       "      <td>Western</td>\n",
       "      <td>0</td>\n",
       "      <td>0</td>\n",
       "      <td>The Fort area built by the British had three m...</td>\n",
       "      <td>4</td>\n",
       "      <td>4</td>\n",
       "      <td>1867</td>\n",
       "    </tr>\n",
       "    <tr>\n",
       "      <th>1</th>\n",
       "      <td>Marine Lines</td>\n",
       "      <td>MEL</td>\n",
       "      <td>Western</td>\n",
       "      <td>1</td>\n",
       "      <td>3</td>\n",
       "      <td>Marine Lines (station code: MEL) is a railway ...</td>\n",
       "      <td>4</td>\n",
       "      <td>4</td>\n",
       "      <td>1867</td>\n",
       "    </tr>\n",
       "    <tr>\n",
       "      <th>2</th>\n",
       "      <td>Charni Road</td>\n",
       "      <td>CYR</td>\n",
       "      <td>Western</td>\n",
       "      <td>1</td>\n",
       "      <td>2</td>\n",
       "      <td>Charni Road (formerly Churney Road, station co...</td>\n",
       "      <td>4</td>\n",
       "      <td>4</td>\n",
       "      <td>1867</td>\n",
       "    </tr>\n",
       "  </tbody>\n",
       "</table>\n",
       "</div>"
      ],
      "text/plain": [
       "        Station Station Code     Line  Distance From Previous of the Line(KM)  \\\n",
       "0    Churchgate          CCG  Western                                       0   \n",
       "1  Marine Lines          MEL  Western                                       1   \n",
       "2   Charni Road          CYR  Western                                       1   \n",
       "\n",
       "   Time taken From Previous of the Line(min)  \\\n",
       "0                                          0   \n",
       "1                                          3   \n",
       "2                                          2   \n",
       "\n",
       "                                               About  Platforms  Tracks  \\\n",
       "0  The Fort area built by the British had three m...          4       4   \n",
       "1  Marine Lines (station code: MEL) is a railway ...          4       4   \n",
       "2  Charni Road (formerly Churney Road, station co...          4       4   \n",
       "\n",
       "   Year of Opening  \n",
       "0             1867  \n",
       "1             1867  \n",
       "2             1867  "
      ]
     },
     "execution_count": 16,
     "metadata": {},
     "output_type": "execute_result"
    }
   ],
   "source": [
    "MumbaiTrain.head(3)"
   ]
  },
  {
   "cell_type": "code",
   "execution_count": 17,
   "id": "e930c09c",
   "metadata": {},
   "outputs": [],
   "source": [
    "df1=MumbaiTrain.drop(columns=[\"Station\",'Station Code' ,'Line',\"About\"],axis=1)"
   ]
  },
  {
   "cell_type": "markdown",
   "id": "f10e618c",
   "metadata": {},
   "source": [
    "We remove the string columns for heatmap visualization"
   ]
  },
  {
   "cell_type": "code",
   "execution_count": 18,
   "id": "eb10a2e8",
   "metadata": {},
   "outputs": [
    {
     "data": {
      "text/html": [
       "<div>\n",
       "<style scoped>\n",
       "    .dataframe tbody tr th:only-of-type {\n",
       "        vertical-align: middle;\n",
       "    }\n",
       "\n",
       "    .dataframe tbody tr th {\n",
       "        vertical-align: top;\n",
       "    }\n",
       "\n",
       "    .dataframe thead th {\n",
       "        text-align: right;\n",
       "    }\n",
       "</style>\n",
       "<table border=\"1\" class=\"dataframe\">\n",
       "  <thead>\n",
       "    <tr style=\"text-align: right;\">\n",
       "      <th></th>\n",
       "      <th>Distance From Previous of the Line(KM)</th>\n",
       "      <th>Time taken From Previous of the Line(min)</th>\n",
       "      <th>Platforms</th>\n",
       "      <th>Tracks</th>\n",
       "      <th>Year of Opening</th>\n",
       "    </tr>\n",
       "  </thead>\n",
       "  <tbody>\n",
       "    <tr>\n",
       "      <th>0</th>\n",
       "      <td>0</td>\n",
       "      <td>0</td>\n",
       "      <td>4</td>\n",
       "      <td>4</td>\n",
       "      <td>1867</td>\n",
       "    </tr>\n",
       "    <tr>\n",
       "      <th>1</th>\n",
       "      <td>1</td>\n",
       "      <td>3</td>\n",
       "      <td>4</td>\n",
       "      <td>4</td>\n",
       "      <td>1867</td>\n",
       "    </tr>\n",
       "  </tbody>\n",
       "</table>\n",
       "</div>"
      ],
      "text/plain": [
       "   Distance From Previous of the Line(KM)  \\\n",
       "0                                       0   \n",
       "1                                       1   \n",
       "\n",
       "   Time taken From Previous of the Line(min)  Platforms  Tracks  \\\n",
       "0                                          0          4       4   \n",
       "1                                          3          4       4   \n",
       "\n",
       "   Year of Opening  \n",
       "0             1867  \n",
       "1             1867  "
      ]
     },
     "execution_count": 18,
     "metadata": {},
     "output_type": "execute_result"
    }
   ],
   "source": [
    "df1.head(2)"
   ]
  },
  {
   "cell_type": "markdown",
   "id": "bf011690",
   "metadata": {},
   "source": [
    "Data Cleaning process is complete"
   ]
  },
  {
   "cell_type": "markdown",
   "id": "972e6a1f",
   "metadata": {},
   "source": [
    "## Data visualization"
   ]
  },
  {
   "cell_type": "code",
   "execution_count": 20,
   "id": "56dc796d",
   "metadata": {},
   "outputs": [
    {
     "data": {
      "text/html": [
       "<div>\n",
       "<style scoped>\n",
       "    .dataframe tbody tr th:only-of-type {\n",
       "        vertical-align: middle;\n",
       "    }\n",
       "\n",
       "    .dataframe tbody tr th {\n",
       "        vertical-align: top;\n",
       "    }\n",
       "\n",
       "    .dataframe thead th {\n",
       "        text-align: right;\n",
       "    }\n",
       "</style>\n",
       "<table border=\"1\" class=\"dataframe\">\n",
       "  <thead>\n",
       "    <tr style=\"text-align: right;\">\n",
       "      <th></th>\n",
       "      <th>Station</th>\n",
       "      <th>Station Code</th>\n",
       "      <th>Line</th>\n",
       "      <th>Distance From Previous of the Line(KM)</th>\n",
       "      <th>Time taken From Previous of the Line(min)</th>\n",
       "      <th>About</th>\n",
       "      <th>Platforms</th>\n",
       "      <th>Tracks</th>\n",
       "      <th>Year of Opening</th>\n",
       "    </tr>\n",
       "  </thead>\n",
       "  <tbody>\n",
       "    <tr>\n",
       "      <th>0</th>\n",
       "      <td>Churchgate</td>\n",
       "      <td>CCG</td>\n",
       "      <td>Western</td>\n",
       "      <td>0</td>\n",
       "      <td>0</td>\n",
       "      <td>The Fort area built by the British had three m...</td>\n",
       "      <td>4</td>\n",
       "      <td>4</td>\n",
       "      <td>1867</td>\n",
       "    </tr>\n",
       "    <tr>\n",
       "      <th>1</th>\n",
       "      <td>Marine Lines</td>\n",
       "      <td>MEL</td>\n",
       "      <td>Western</td>\n",
       "      <td>1</td>\n",
       "      <td>3</td>\n",
       "      <td>Marine Lines (station code: MEL) is a railway ...</td>\n",
       "      <td>4</td>\n",
       "      <td>4</td>\n",
       "      <td>1867</td>\n",
       "    </tr>\n",
       "    <tr>\n",
       "      <th>2</th>\n",
       "      <td>Charni Road</td>\n",
       "      <td>CYR</td>\n",
       "      <td>Western</td>\n",
       "      <td>1</td>\n",
       "      <td>2</td>\n",
       "      <td>Charni Road (formerly Churney Road, station co...</td>\n",
       "      <td>4</td>\n",
       "      <td>4</td>\n",
       "      <td>1867</td>\n",
       "    </tr>\n",
       "  </tbody>\n",
       "</table>\n",
       "</div>"
      ],
      "text/plain": [
       "        Station Station Code     Line  Distance From Previous of the Line(KM)  \\\n",
       "0    Churchgate          CCG  Western                                       0   \n",
       "1  Marine Lines          MEL  Western                                       1   \n",
       "2   Charni Road          CYR  Western                                       1   \n",
       "\n",
       "   Time taken From Previous of the Line(min)  \\\n",
       "0                                          0   \n",
       "1                                          3   \n",
       "2                                          2   \n",
       "\n",
       "                                               About  Platforms  Tracks  \\\n",
       "0  The Fort area built by the British had three m...          4       4   \n",
       "1  Marine Lines (station code: MEL) is a railway ...          4       4   \n",
       "2  Charni Road (formerly Churney Road, station co...          4       4   \n",
       "\n",
       "   Year of Opening  \n",
       "0             1867  \n",
       "1             1867  \n",
       "2             1867  "
      ]
     },
     "execution_count": 20,
     "metadata": {},
     "output_type": "execute_result"
    }
   ],
   "source": [
    "MumbaiTrain.head(3)"
   ]
  },
  {
   "cell_type": "code",
   "execution_count": 21,
   "id": "7a71e476",
   "metadata": {},
   "outputs": [
    {
     "data": {
      "image/png": "[encoded data removed]",
      "text/plain": [
       "<Figure size 432x288 with 1 Axes>"
      ]
     },
     "metadata": {
      "needs_background": "light"
     },
     "output_type": "display_data"
    }
   ],
   "source": [
    "outliers=sns.boxplot(data=MumbaiTrain[['Platforms',\"Tracks\",\"Distance From Previous of the Line(KM)\",\"Time taken From Previous of the Line(min)\"]])\n",
    "outliers.set_xticklabels(outliers.get_xticklabels(),rotation=90)\n",
    "plt.show()"
   ]
  },
  {
   "cell_type": "markdown",
   "id": "d1f186b0",
   "metadata": {},
   "source": [
    "There are outliers present in the data but we are not removing as specific year of track opening as well as platform opening is also important. For Ex : 10 Tracks open in 1962 ."
   ]
  },
  {
   "cell_type": "code",
   "execution_count": 22,
   "id": "b17cf598",
   "metadata": {},
   "outputs": [],
   "source": [
    "lineGroupBy=MumbaiTrain.groupby(\"Line\")"
   ]
  },
  {
   "cell_type": "code",
   "execution_count": 23,
   "id": "6d59a43f",
   "metadata": {},
   "outputs": [
    {
     "data": {
      "text/html": [
       "<div>\n",
       "<style scoped>\n",
       "    .dataframe tbody tr th:only-of-type {\n",
       "        vertical-align: middle;\n",
       "    }\n",
       "\n",
       "    .dataframe tbody tr th {\n",
       "        vertical-align: top;\n",
       "    }\n",
       "\n",
       "    .dataframe thead th {\n",
       "        text-align: right;\n",
       "    }\n",
       "</style>\n",
       "<table border=\"1\" class=\"dataframe\">\n",
       "  <thead>\n",
       "    <tr style=\"text-align: right;\">\n",
       "      <th></th>\n",
       "      <th>Station</th>\n",
       "      <th>Station Code</th>\n",
       "      <th>Line</th>\n",
       "      <th>Distance From Previous of the Line(KM)</th>\n",
       "      <th>Time taken From Previous of the Line(min)</th>\n",
       "      <th>About</th>\n",
       "      <th>Platforms</th>\n",
       "      <th>Tracks</th>\n",
       "      <th>Year of Opening</th>\n",
       "    </tr>\n",
       "  </thead>\n",
       "  <tbody>\n",
       "    <tr>\n",
       "      <th>0</th>\n",
       "      <td>Churchgate</td>\n",
       "      <td>CCG</td>\n",
       "      <td>Western</td>\n",
       "      <td>0</td>\n",
       "      <td>0</td>\n",
       "      <td>The Fort area built by the British had three m...</td>\n",
       "      <td>4</td>\n",
       "      <td>4</td>\n",
       "      <td>1867</td>\n",
       "    </tr>\n",
       "    <tr>\n",
       "      <th>37</th>\n",
       "      <td>CSMT</td>\n",
       "      <td>CSMT/ST</td>\n",
       "      <td>Central 1</td>\n",
       "      <td>0</td>\n",
       "      <td>0</td>\n",
       "      <td>Chhatrapati Shivaji Terminus (officially Chhat...</td>\n",
       "      <td>7</td>\n",
       "      <td>7</td>\n",
       "      <td>1878</td>\n",
       "    </tr>\n",
       "    <tr>\n",
       "      <th>77</th>\n",
       "      <td>CSMT</td>\n",
       "      <td>CSMT/ST</td>\n",
       "      <td>Central 2</td>\n",
       "      <td>0</td>\n",
       "      <td>0</td>\n",
       "      <td>Chhatrapati Shivaji Terminus (officially Chhat...</td>\n",
       "      <td>7</td>\n",
       "      <td>7</td>\n",
       "      <td>1878</td>\n",
       "    </tr>\n",
       "    <tr>\n",
       "      <th>114</th>\n",
       "      <td>CSMT</td>\n",
       "      <td>CSMT/ST</td>\n",
       "      <td>Harbour</td>\n",
       "      <td>0</td>\n",
       "      <td>0</td>\n",
       "      <td>Chhatrapati Shivaji Terminus (officially Chhat...</td>\n",
       "      <td>7</td>\n",
       "      <td>7</td>\n",
       "      <td>1878</td>\n",
       "    </tr>\n",
       "    <tr>\n",
       "      <th>139</th>\n",
       "      <td>Thane</td>\n",
       "      <td>TNA</td>\n",
       "      <td>Trans Harbour</td>\n",
       "      <td>0</td>\n",
       "      <td>0</td>\n",
       "      <td>Thane (formerly Thana, station code: TNA) is a...</td>\n",
       "      <td>10</td>\n",
       "      <td>10</td>\n",
       "      <td>1853</td>\n",
       "    </tr>\n",
       "    <tr>\n",
       "      <th>153</th>\n",
       "      <td>Nerul</td>\n",
       "      <td>NEU</td>\n",
       "      <td>Uran</td>\n",
       "      <td>0</td>\n",
       "      <td>0</td>\n",
       "      <td>Nerul is a railway station on the Harbour Line...</td>\n",
       "      <td>6</td>\n",
       "      <td>6</td>\n",
       "      <td>1993</td>\n",
       "    </tr>\n",
       "    <tr>\n",
       "      <th>158</th>\n",
       "      <td>Diva Jn</td>\n",
       "      <td>DIVA</td>\n",
       "      <td>Diva-Roha</td>\n",
       "      <td>0</td>\n",
       "      <td>0</td>\n",
       "      <td>Diva Junction railway station is a junction be...</td>\n",
       "      <td>8</td>\n",
       "      <td>13</td>\n",
       "      <td>1877</td>\n",
       "    </tr>\n",
       "    <tr>\n",
       "      <th>175</th>\n",
       "      <td>Dahanu Road</td>\n",
       "      <td>DRD</td>\n",
       "      <td>Dahanu-Virar-Panvel</td>\n",
       "      <td>0</td>\n",
       "      <td>0</td>\n",
       "      <td>Dahanu Road is a railway station near the town...</td>\n",
       "      <td>5</td>\n",
       "      <td>6</td>\n",
       "      <td>1898</td>\n",
       "    </tr>\n",
       "    <tr>\n",
       "      <th>197</th>\n",
       "      <td>Neral</td>\n",
       "      <td>NRL</td>\n",
       "      <td>Neral-Matheran</td>\n",
       "      <td>0</td>\n",
       "      <td>0</td>\n",
       "      <td>Neral Junction is a railway station on the Cen...</td>\n",
       "      <td>2</td>\n",
       "      <td>2</td>\n",
       "      <td>1887</td>\n",
       "    </tr>\n",
       "  </tbody>\n",
       "</table>\n",
       "</div>"
      ],
      "text/plain": [
       "         Station Station Code                 Line  \\\n",
       "0     Churchgate          CCG              Western   \n",
       "37          CSMT      CSMT/ST            Central 1   \n",
       "77          CSMT      CSMT/ST            Central 2   \n",
       "114         CSMT      CSMT/ST              Harbour   \n",
       "139        Thane          TNA        Trans Harbour   \n",
       "153        Nerul          NEU                 Uran   \n",
       "158      Diva Jn         DIVA            Diva-Roha   \n",
       "175  Dahanu Road          DRD  Dahanu-Virar-Panvel   \n",
       "197        Neral          NRL       Neral-Matheran   \n",
       "\n",
       "     Distance From Previous of the Line(KM)  \\\n",
       "0                                         0   \n",
       "37                                        0   \n",
       "77                                        0   \n",
       "114                                       0   \n",
       "139                                       0   \n",
       "153                                       0   \n",
       "158                                       0   \n",
       "175                                       0   \n",
       "197                                       0   \n",
       "\n",
       "     Time taken From Previous of the Line(min)  \\\n",
       "0                                            0   \n",
       "37                                           0   \n",
       "77                                           0   \n",
       "114                                          0   \n",
       "139                                          0   \n",
       "153                                          0   \n",
       "158                                          0   \n",
       "175                                          0   \n",
       "197                                          0   \n",
       "\n",
       "                                                 About  Platforms  Tracks  \\\n",
       "0    The Fort area built by the British had three m...          4       4   \n",
       "37   Chhatrapati Shivaji Terminus (officially Chhat...          7       7   \n",
       "77   Chhatrapati Shivaji Terminus (officially Chhat...          7       7   \n",
       "114  Chhatrapati Shivaji Terminus (officially Chhat...          7       7   \n",
       "139  Thane (formerly Thana, station code: TNA) is a...         10      10   \n",
       "153  Nerul is a railway station on the Harbour Line...          6       6   \n",
       "158  Diva Junction railway station is a junction be...          8      13   \n",
       "175  Dahanu Road is a railway station near the town...          5       6   \n",
       "197  Neral Junction is a railway station on the Cen...          2       2   \n",
       "\n",
       "     Year of Opening  \n",
       "0               1867  \n",
       "37              1878  \n",
       "77              1878  \n",
       "114             1878  \n",
       "139             1853  \n",
       "153             1993  \n",
       "158             1877  \n",
       "175             1898  \n",
       "197             1887  "
      ]
     },
     "execution_count": 23,
     "metadata": {},
     "output_type": "execute_result"
    }
   ],
   "source": [
    "lineGroupBy.head(1)"
   ]
  },
  {
   "cell_type": "code",
   "execution_count": 24,
   "id": "65d8e29a",
   "metadata": {},
   "outputs": [
    {
     "data": {
      "text/html": [
       "<div>\n",
       "<style scoped>\n",
       "    .dataframe tbody tr th:only-of-type {\n",
       "        vertical-align: middle;\n",
       "    }\n",
       "\n",
       "    .dataframe tbody tr th {\n",
       "        vertical-align: top;\n",
       "    }\n",
       "\n",
       "    .dataframe thead th {\n",
       "        text-align: right;\n",
       "    }\n",
       "</style>\n",
       "<table border=\"1\" class=\"dataframe\">\n",
       "  <thead>\n",
       "    <tr style=\"text-align: right;\">\n",
       "      <th></th>\n",
       "      <th>Line</th>\n",
       "      <th>0</th>\n",
       "    </tr>\n",
       "  </thead>\n",
       "  <tbody>\n",
       "    <tr>\n",
       "      <th>0</th>\n",
       "      <td>Central 1</td>\n",
       "      <td>39</td>\n",
       "    </tr>\n",
       "    <tr>\n",
       "      <th>1</th>\n",
       "      <td>Central 2</td>\n",
       "      <td>34</td>\n",
       "    </tr>\n",
       "    <tr>\n",
       "      <th>2</th>\n",
       "      <td>Dahanu-Virar-Panvel</td>\n",
       "      <td>17</td>\n",
       "    </tr>\n",
       "    <tr>\n",
       "      <th>3</th>\n",
       "      <td>Diva-Roha</td>\n",
       "      <td>14</td>\n",
       "    </tr>\n",
       "    <tr>\n",
       "      <th>4</th>\n",
       "      <td>Harbour</td>\n",
       "      <td>25</td>\n",
       "    </tr>\n",
       "    <tr>\n",
       "      <th>5</th>\n",
       "      <td>Neral-Matheran</td>\n",
       "      <td>1</td>\n",
       "    </tr>\n",
       "    <tr>\n",
       "      <th>6</th>\n",
       "      <td>Trans Harbour</td>\n",
       "      <td>14</td>\n",
       "    </tr>\n",
       "    <tr>\n",
       "      <th>7</th>\n",
       "      <td>Uran</td>\n",
       "      <td>5</td>\n",
       "    </tr>\n",
       "    <tr>\n",
       "      <th>8</th>\n",
       "      <td>Western</td>\n",
       "      <td>36</td>\n",
       "    </tr>\n",
       "  </tbody>\n",
       "</table>\n",
       "</div>"
      ],
      "text/plain": [
       "                  Line   0\n",
       "0            Central 1  39\n",
       "1            Central 2  34\n",
       "2  Dahanu-Virar-Panvel  17\n",
       "3            Diva-Roha  14\n",
       "4              Harbour  25\n",
       "5       Neral-Matheran   1\n",
       "6        Trans Harbour  14\n",
       "7                 Uran   5\n",
       "8              Western  36"
      ]
     },
     "execution_count": 24,
     "metadata": {},
     "output_type": "execute_result"
    }
   ],
   "source": [
    "lineGroupBy.size().reset_index()"
   ]
  },
  {
   "cell_type": "markdown",
   "id": "599b40e1",
   "metadata": {},
   "source": [
    " 1.We groupby the data on \"Line\" columns.\n",
    " \n",
    " 2.we will select single line to perform visualization."
   ]
  },
  {
   "cell_type": "markdown",
   "id": "52d9606d",
   "metadata": {},
   "source": [
    "# Analysing the Central 1 Line"
   ]
  },
  {
   "cell_type": "code",
   "execution_count": 25,
   "id": "656a0f40",
   "metadata": {},
   "outputs": [],
   "source": [
    "p1=lineGroupBy.get_group(\"Central 1\")"
   ]
  },
  {
   "cell_type": "code",
   "execution_count": 26,
   "id": "fe0954ad",
   "metadata": {},
   "outputs": [
    {
     "data": {
      "text/html": [
       "<div>\n",
       "<style scoped>\n",
       "    .dataframe tbody tr th:only-of-type {\n",
       "        vertical-align: middle;\n",
       "    }\n",
       "\n",
       "    .dataframe tbody tr th {\n",
       "        vertical-align: top;\n",
       "    }\n",
       "\n",
       "    .dataframe thead th {\n",
       "        text-align: right;\n",
       "    }\n",
       "</style>\n",
       "<table border=\"1\" class=\"dataframe\">\n",
       "  <thead>\n",
       "    <tr style=\"text-align: right;\">\n",
       "      <th></th>\n",
       "      <th>Station</th>\n",
       "      <th>Station Code</th>\n",
       "      <th>Line</th>\n",
       "      <th>Distance From Previous of the Line(KM)</th>\n",
       "      <th>Time taken From Previous of the Line(min)</th>\n",
       "      <th>About</th>\n",
       "      <th>Platforms</th>\n",
       "      <th>Tracks</th>\n",
       "      <th>Year of Opening</th>\n",
       "    </tr>\n",
       "  </thead>\n",
       "  <tbody>\n",
       "    <tr>\n",
       "      <th>37</th>\n",
       "      <td>CSMT</td>\n",
       "      <td>CSMT/ST</td>\n",
       "      <td>Central 1</td>\n",
       "      <td>0</td>\n",
       "      <td>0</td>\n",
       "      <td>Chhatrapati Shivaji Terminus (officially Chhat...</td>\n",
       "      <td>7</td>\n",
       "      <td>7</td>\n",
       "      <td>1878</td>\n",
       "    </tr>\n",
       "    <tr>\n",
       "      <th>38</th>\n",
       "      <td>Masjid</td>\n",
       "      <td>MSD</td>\n",
       "      <td>Central 1</td>\n",
       "      <td>1</td>\n",
       "      <td>3</td>\n",
       "      <td>Masjid (station code: MSD) is a railway statio...</td>\n",
       "      <td>4</td>\n",
       "      <td>6</td>\n",
       "      <td>1877</td>\n",
       "    </tr>\n",
       "  </tbody>\n",
       "</table>\n",
       "</div>"
      ],
      "text/plain": [
       "   Station Station Code       Line  Distance From Previous of the Line(KM)  \\\n",
       "37    CSMT      CSMT/ST  Central 1                                       0   \n",
       "38  Masjid          MSD  Central 1                                       1   \n",
       "\n",
       "    Time taken From Previous of the Line(min)  \\\n",
       "37                                          0   \n",
       "38                                          3   \n",
       "\n",
       "                                                About  Platforms  Tracks  \\\n",
       "37  Chhatrapati Shivaji Terminus (officially Chhat...          7       7   \n",
       "38  Masjid (station code: MSD) is a railway statio...          4       6   \n",
       "\n",
       "    Year of Opening  \n",
       "37             1878  \n",
       "38             1877  "
      ]
     },
     "execution_count": 26,
     "metadata": {},
     "output_type": "execute_result"
    }
   ],
   "source": [
    "p1.head(2)"
   ]
  },
  {
   "cell_type": "code",
   "execution_count": 27,
   "id": "a596bfd3",
   "metadata": {},
   "outputs": [
    {
     "data": {
      "image/png": "[encoded data removed]",
      "text/plain": [
       "<Figure size 432x288 with 1 Axes>"
      ]
     },
     "metadata": {
      "needs_background": "light"
     },
     "output_type": "display_data"
    }
   ],
   "source": [
    "p1a=sns.barplot(x=\"Year of Opening\",y=\"Tracks\",data=p1)\n",
    "p1a.set_xticklabels(p1a.get_xticklabels(),rotation=90)\n",
    "plt.title(\"Fig= Year vs Tracks \")\n",
    "plt.show()"
   ]
  },
  {
   "cell_type": "code",
   "execution_count": 28,
   "id": "7ed724ef",
   "metadata": {},
   "outputs": [
    {
     "data": {
      "text/plain": [
       "4.666666666666667"
      ]
     },
     "execution_count": 28,
     "metadata": {},
     "output_type": "execute_result"
    }
   ],
   "source": [
    "p1['Tracks'].mean()"
   ]
  },
  {
   "cell_type": "markdown",
   "id": "658aa930",
   "metadata": {},
   "source": [
    "In year 1916 only 1 track was opened but previously in 1868 it was more than 12 tracks"
   ]
  },
  {
   "cell_type": "code",
   "execution_count": 29,
   "id": "16b052ee",
   "metadata": {},
   "outputs": [
    {
     "data": {
      "image/png": "[encoded data removed]",
      "text/plain": [
       "<Figure size 432x288 with 1 Axes>"
      ]
     },
     "metadata": {
      "needs_background": "light"
     },
     "output_type": "display_data"
    }
   ],
   "source": [
    "p1b=sns.barplot(x=\"Year of Opening\",y=\"Platforms\",data=p1)\n",
    "p1b.set_xticklabels(p1b.get_xticklabels(),rotation=90)\n",
    "plt.title(\"Fig=Year vs Platforms\")\n",
    "plt.show()"
   ]
  },
  {
   "cell_type": "code",
   "execution_count": 30,
   "id": "05569e0f",
   "metadata": {},
   "outputs": [
    {
     "data": {
      "text/plain": [
       "3.8205128205128207"
      ]
     },
     "execution_count": 30,
     "metadata": {},
     "output_type": "execute_result"
    }
   ],
   "source": [
    "p1['Platforms'].mean()"
   ]
  },
  {
   "cell_type": "markdown",
   "id": "e84d7319",
   "metadata": {},
   "source": [
    "In year 1916 only 1 track was opened but previously in 1868 it was more than 12 tracks"
   ]
  },
  {
   "cell_type": "code",
   "execution_count": 31,
   "id": "4b3ac47a",
   "metadata": {},
   "outputs": [
    {
     "data": {
      "text/plain": [
       "<AxesSubplot:ylabel='Count'>"
      ]
     },
     "execution_count": 31,
     "metadata": {},
     "output_type": "execute_result"
    },
    {
     "data": {
      "image/png": "[encoded data removed]",
      "text/plain": [
       "<Figure size 432x288 with 1 Axes>"
      ]
     },
     "metadata": {
      "needs_background": "light"
     },
     "output_type": "display_data"
    }
   ],
   "source": [
    "sns.histplot(p1[[\"Year of Opening\"]],kde=True)"
   ]
  },
  {
   "cell_type": "markdown",
   "id": "463a8686",
   "metadata": {},
   "source": [
    "Development growth is satisfactory "
   ]
  },
  {
   "cell_type": "code",
   "execution_count": 32,
   "id": "08c5e9c3",
   "metadata": {},
   "outputs": [
    {
     "data": {
      "image/png": "[encoded data removed]",
      "text/plain": [
       "<Figure size 432x288 with 1 Axes>"
      ]
     },
     "metadata": {
      "needs_background": "light"
     },
     "output_type": "display_data"
    }
   ],
   "source": [
    "sns.lineplot(x=\"Time taken From Previous of the Line(min)\",y=\"Distance From Previous of the Line(KM)\",data=p1,)\n",
    "plt.grid()\n",
    "plt.show()"
   ]
  },
  {
   "cell_type": "markdown",
   "id": "6d150fe4",
   "metadata": {},
   "source": [
    "speed of train is varying and the congestion is medium btw two station"
   ]
  },
  {
   "cell_type": "markdown",
   "id": "04f7b295",
   "metadata": {},
   "source": [
    "# Analysing the Central 2 Line"
   ]
  },
  {
   "cell_type": "code",
   "execution_count": 33,
   "id": "10646a15",
   "metadata": {},
   "outputs": [],
   "source": [
    "p2=lineGroupBy.get_group(\"Central 2\")"
   ]
  },
  {
   "cell_type": "code",
   "execution_count": 34,
   "id": "bd9cedde",
   "metadata": {},
   "outputs": [
    {
     "data": {
      "text/html": [
       "<div>\n",
       "<style scoped>\n",
       "    .dataframe tbody tr th:only-of-type {\n",
       "        vertical-align: middle;\n",
       "    }\n",
       "\n",
       "    .dataframe tbody tr th {\n",
       "        vertical-align: top;\n",
       "    }\n",
       "\n",
       "    .dataframe thead th {\n",
       "        text-align: right;\n",
       "    }\n",
       "</style>\n",
       "<table border=\"1\" class=\"dataframe\">\n",
       "  <thead>\n",
       "    <tr style=\"text-align: right;\">\n",
       "      <th></th>\n",
       "      <th>Station</th>\n",
       "      <th>Station Code</th>\n",
       "      <th>Line</th>\n",
       "      <th>Distance From Previous of the Line(KM)</th>\n",
       "      <th>Time taken From Previous of the Line(min)</th>\n",
       "      <th>About</th>\n",
       "      <th>Platforms</th>\n",
       "      <th>Tracks</th>\n",
       "      <th>Year of Opening</th>\n",
       "    </tr>\n",
       "  </thead>\n",
       "  <tbody>\n",
       "    <tr>\n",
       "      <th>77</th>\n",
       "      <td>CSMT</td>\n",
       "      <td>CSMT/ST</td>\n",
       "      <td>Central 2</td>\n",
       "      <td>0</td>\n",
       "      <td>0</td>\n",
       "      <td>Chhatrapati Shivaji Terminus (officially Chhat...</td>\n",
       "      <td>7</td>\n",
       "      <td>7</td>\n",
       "      <td>1878</td>\n",
       "    </tr>\n",
       "    <tr>\n",
       "      <th>78</th>\n",
       "      <td>Masjid</td>\n",
       "      <td>MSD</td>\n",
       "      <td>Central 2</td>\n",
       "      <td>1</td>\n",
       "      <td>3</td>\n",
       "      <td>Masjid (station code: MSD) is a railway statio...</td>\n",
       "      <td>4</td>\n",
       "      <td>6</td>\n",
       "      <td>1877</td>\n",
       "    </tr>\n",
       "  </tbody>\n",
       "</table>\n",
       "</div>"
      ],
      "text/plain": [
       "   Station Station Code       Line  Distance From Previous of the Line(KM)  \\\n",
       "77    CSMT      CSMT/ST  Central 2                                       0   \n",
       "78  Masjid          MSD  Central 2                                       1   \n",
       "\n",
       "    Time taken From Previous of the Line(min)  \\\n",
       "77                                          0   \n",
       "78                                          3   \n",
       "\n",
       "                                                About  Platforms  Tracks  \\\n",
       "77  Chhatrapati Shivaji Terminus (officially Chhat...          7       7   \n",
       "78  Masjid (station code: MSD) is a railway statio...          4       6   \n",
       "\n",
       "    Year of Opening  \n",
       "77             1878  \n",
       "78             1877  "
      ]
     },
     "execution_count": 34,
     "metadata": {},
     "output_type": "execute_result"
    }
   ],
   "source": [
    "p2.head(2)"
   ]
  },
  {
   "cell_type": "code",
   "execution_count": 35,
   "id": "6394c76c",
   "metadata": {},
   "outputs": [
    {
     "data": {
      "image/png": "[encoded data removed]",
      "text/plain": [
       "<Figure size 432x288 with 1 Axes>"
      ]
     },
     "metadata": {
      "needs_background": "light"
     },
     "output_type": "display_data"
    }
   ],
   "source": [
    "p2a=sns.barplot(x=\"Year of Opening\",y=\"Tracks\",data=p2,)\n",
    "p2a.set_xticklabels(p2a.get_xticklabels(),rotation=90)\n",
    "plt.title(\"Fig= Year vs Tracks \")\n",
    "plt.show()"
   ]
  },
  {
   "cell_type": "code",
   "execution_count": 36,
   "id": "a837552a",
   "metadata": {},
   "outputs": [
    {
     "data": {
      "text/plain": [
       "5.411764705882353"
      ]
     },
     "execution_count": 36,
     "metadata": {},
     "output_type": "execute_result"
    }
   ],
   "source": [
    "p2['Tracks'].mean()"
   ]
  },
  {
   "cell_type": "markdown",
   "id": "fd462342",
   "metadata": {},
   "source": [
    "In year 1867 and 1925 only 2 tracks was opened but previously in 1868 it was more than 12 tracks"
   ]
  },
  {
   "cell_type": "code",
   "execution_count": 37,
   "id": "3f8a9666",
   "metadata": {},
   "outputs": [
    {
     "data": {
      "image/png": "[encoded data removed]",
      "text/plain": [
       "<Figure size 432x288 with 1 Axes>"
      ]
     },
     "metadata": {
      "needs_background": "light"
     },
     "output_type": "display_data"
    }
   ],
   "source": [
    "p2b=sns.barplot(x=\"Year of Opening\",y=\"Platforms\",data=p2)\n",
    "p2b.set_xticklabels(p2b.get_xticklabels(),rotation=90)\n",
    "plt.title(\"Fig=Year vs Platforms\")\n",
    "plt.show()"
   ]
  },
  {
   "cell_type": "code",
   "execution_count": 38,
   "id": "3bb6526f",
   "metadata": {},
   "outputs": [
    {
     "data": {
      "text/plain": [
       "4.176470588235294"
      ]
     },
     "execution_count": 38,
     "metadata": {},
     "output_type": "execute_result"
    }
   ],
   "source": [
    "p2['Platforms'].mean()"
   ]
  },
  {
   "cell_type": "markdown",
   "id": "c51cebfc",
   "metadata": {},
   "source": [
    "In year 1867,1915,1916,1925and 2017 only 2 platforms was opened but previously in 1868 it was more than 14 platforms"
   ]
  },
  {
   "cell_type": "code",
   "execution_count": 39,
   "id": "6e859423",
   "metadata": {
    "scrolled": false
   },
   "outputs": [
    {
     "data": {
      "image/png": "[encoded data removed]",
      "text/plain": [
       "<Figure size 432x288 with 1 Axes>"
      ]
     },
     "metadata": {
      "needs_background": "light"
     },
     "output_type": "display_data"
    }
   ],
   "source": [
    "sns.histplot(p2[[\"Year of Opening\"]],kde=True)\n",
    "plt.title(\"Fig= Year \")\n",
    "plt.show()"
   ]
  },
  {
   "cell_type": "markdown",
   "id": "e84b31c8",
   "metadata": {},
   "source": [
    "Devlopment was rapid in starting years of 1850's but there was a consicutive downfall between 1970-1990. After 1990's there was slight growth."
   ]
  },
  {
   "cell_type": "code",
   "execution_count": 40,
   "id": "eae3693e",
   "metadata": {},
   "outputs": [
    {
     "data": {
      "image/png": "[encoded data removed]",
      "text/plain": [
       "<Figure size 432x288 with 1 Axes>"
      ]
     },
     "metadata": {
      "needs_background": "light"
     },
     "output_type": "display_data"
    }
   ],
   "source": [
    "sns.lineplot(x=\"Time taken From Previous of the Line(min)\",y=\"Distance From Previous of the Line(KM)\",data=p2,)\n",
    "plt.title(\"Fig=Distances Vs Times\")\n",
    "plt.grid()\n",
    "plt.show()"
   ]
  },
  {
   "cell_type": "markdown",
   "id": "bc6cd9a4",
   "metadata": {},
   "source": [
    "speed of train is varying  and the congestion is medium btw two station"
   ]
  },
  {
   "cell_type": "markdown",
   "id": "ae758273",
   "metadata": {},
   "source": [
    "# Analysing the Dahanu-Virar-Panvel line"
   ]
  },
  {
   "cell_type": "code",
   "execution_count": 41,
   "id": "8e1ddb1f",
   "metadata": {},
   "outputs": [],
   "source": [
    "p3=lineGroupBy.get_group(\"Dahanu-Virar-Panvel\")"
   ]
  },
  {
   "cell_type": "code",
   "execution_count": 42,
   "id": "1f4bf376",
   "metadata": {},
   "outputs": [
    {
     "data": {
      "text/html": [
       "<div>\n",
       "<style scoped>\n",
       "    .dataframe tbody tr th:only-of-type {\n",
       "        vertical-align: middle;\n",
       "    }\n",
       "\n",
       "    .dataframe tbody tr th {\n",
       "        vertical-align: top;\n",
       "    }\n",
       "\n",
       "    .dataframe thead th {\n",
       "        text-align: right;\n",
       "    }\n",
       "</style>\n",
       "<table border=\"1\" class=\"dataframe\">\n",
       "  <thead>\n",
       "    <tr style=\"text-align: right;\">\n",
       "      <th></th>\n",
       "      <th>Station</th>\n",
       "      <th>Station Code</th>\n",
       "      <th>Line</th>\n",
       "      <th>Distance From Previous of the Line(KM)</th>\n",
       "      <th>Time taken From Previous of the Line(min)</th>\n",
       "      <th>About</th>\n",
       "      <th>Platforms</th>\n",
       "      <th>Tracks</th>\n",
       "      <th>Year of Opening</th>\n",
       "    </tr>\n",
       "  </thead>\n",
       "  <tbody>\n",
       "    <tr>\n",
       "      <th>175</th>\n",
       "      <td>Dahanu Road</td>\n",
       "      <td>DRD</td>\n",
       "      <td>Dahanu-Virar-Panvel</td>\n",
       "      <td>0</td>\n",
       "      <td>0</td>\n",
       "      <td>Dahanu Road is a railway station near the town...</td>\n",
       "      <td>5</td>\n",
       "      <td>6</td>\n",
       "      <td>1898</td>\n",
       "    </tr>\n",
       "    <tr>\n",
       "      <th>176</th>\n",
       "      <td>Vangaon</td>\n",
       "      <td>VGN</td>\n",
       "      <td>Dahanu-Virar-Panvel</td>\n",
       "      <td>9</td>\n",
       "      <td>9</td>\n",
       "      <td>Vangaon is a railway station on the Western li...</td>\n",
       "      <td>3</td>\n",
       "      <td>4</td>\n",
       "      <td>2012</td>\n",
       "    </tr>\n",
       "    <tr>\n",
       "      <th>177</th>\n",
       "      <td>Boisar</td>\n",
       "      <td>BOR</td>\n",
       "      <td>Dahanu-Virar-Panvel</td>\n",
       "      <td>6</td>\n",
       "      <td>6</td>\n",
       "      <td>Boisar railway station is a railway station on...</td>\n",
       "      <td>3</td>\n",
       "      <td>5</td>\n",
       "      <td>1992</td>\n",
       "    </tr>\n",
       "    <tr>\n",
       "      <th>179</th>\n",
       "      <td>Palghar</td>\n",
       "      <td>PLG</td>\n",
       "      <td>Dahanu-Virar-Panvel</td>\n",
       "      <td>8</td>\n",
       "      <td>15</td>\n",
       "      <td>Palghar railway station (station code: PLG) is...</td>\n",
       "      <td>3</td>\n",
       "      <td>5</td>\n",
       "      <td>1893</td>\n",
       "    </tr>\n",
       "    <tr>\n",
       "      <th>181</th>\n",
       "      <td>Saphale</td>\n",
       "      <td>SAH</td>\n",
       "      <td>Dahanu-Virar-Panvel</td>\n",
       "      <td>8</td>\n",
       "      <td>8</td>\n",
       "      <td>Saphale railway station is a railway station a...</td>\n",
       "      <td>2</td>\n",
       "      <td>3</td>\n",
       "      <td>1894</td>\n",
       "    </tr>\n",
       "  </tbody>\n",
       "</table>\n",
       "</div>"
      ],
      "text/plain": [
       "         Station Station Code                 Line  \\\n",
       "175  Dahanu Road          DRD  Dahanu-Virar-Panvel   \n",
       "176      Vangaon          VGN  Dahanu-Virar-Panvel   \n",
       "177       Boisar          BOR  Dahanu-Virar-Panvel   \n",
       "179      Palghar          PLG  Dahanu-Virar-Panvel   \n",
       "181      Saphale          SAH  Dahanu-Virar-Panvel   \n",
       "\n",
       "     Distance From Previous of the Line(KM)  \\\n",
       "175                                       0   \n",
       "176                                       9   \n",
       "177                                       6   \n",
       "179                                       8   \n",
       "181                                       8   \n",
       "\n",
       "     Time taken From Previous of the Line(min)  \\\n",
       "175                                          0   \n",
       "176                                          9   \n",
       "177                                          6   \n",
       "179                                         15   \n",
       "181                                          8   \n",
       "\n",
       "                                                 About  Platforms  Tracks  \\\n",
       "175  Dahanu Road is a railway station near the town...          5       6   \n",
       "176  Vangaon is a railway station on the Western li...          3       4   \n",
       "177  Boisar railway station is a railway station on...          3       5   \n",
       "179  Palghar railway station (station code: PLG) is...          3       5   \n",
       "181  Saphale railway station is a railway station a...          2       3   \n",
       "\n",
       "     Year of Opening  \n",
       "175             1898  \n",
       "176             2012  \n",
       "177             1992  \n",
       "179             1893  \n",
       "181             1894  "
      ]
     },
     "execution_count": 42,
     "metadata": {},
     "output_type": "execute_result"
    }
   ],
   "source": [
    "p3.head()"
   ]
  },
  {
   "cell_type": "code",
   "execution_count": 43,
   "id": "ece2d469",
   "metadata": {},
   "outputs": [
    {
     "data": {
      "image/png": "[encoded data removed]",
      "text/plain": [
       "<Figure size 432x288 with 1 Axes>"
      ]
     },
     "metadata": {
      "needs_background": "light"
     },
     "output_type": "display_data"
    }
   ],
   "source": [
    "p3a=sns.barplot(x=\"Year of Opening\",y=\"Tracks\",data=p3)\n",
    "p3a.set_xticklabels(p3a.get_xticklabels(),rotation=90)\n",
    "plt.title(\"Fig= Year vs Tracks \")\n",
    "plt.show()"
   ]
  },
  {
   "cell_type": "code",
   "execution_count": 44,
   "id": "db60d909",
   "metadata": {},
   "outputs": [
    {
     "data": {
      "text/plain": [
       "4.764705882352941"
      ]
     },
     "execution_count": 44,
     "metadata": {},
     "output_type": "execute_result"
    }
   ],
   "source": [
    "p3['Tracks'].mean()"
   ]
  },
  {
   "cell_type": "markdown",
   "id": "2f999e44",
   "metadata": {},
   "source": [
    "In year 2017 and 2018 only 1 tracks was opened but previously in 1962 it was 10 tracks"
   ]
  },
  {
   "cell_type": "code",
   "execution_count": 45,
   "id": "60ee5db0",
   "metadata": {},
   "outputs": [
    {
     "data": {
      "image/png": "[encoded data removed]",
      "text/plain": [
       "<Figure size 432x288 with 1 Axes>"
      ]
     },
     "metadata": {
      "needs_background": "light"
     },
     "output_type": "display_data"
    }
   ],
   "source": [
    "p3b=sns.barplot(x=\"Year of Opening\",y=\"Platforms\",data=p3)\n",
    "p3b.set_xticklabels(p3b.get_xticklabels(),rotation=90)\n",
    "plt.title(\"Fig= Year vs Tracks \")\n",
    "plt.show()"
   ]
  },
  {
   "cell_type": "code",
   "execution_count": 46,
   "id": "5d17efc3",
   "metadata": {},
   "outputs": [
    {
     "data": {
      "text/plain": [
       "3.6470588235294117"
      ]
     },
     "execution_count": 46,
     "metadata": {},
     "output_type": "execute_result"
    }
   ],
   "source": [
    "p3['Platforms'].mean()"
   ]
  },
  {
   "cell_type": "markdown",
   "id": "86f21c22",
   "metadata": {},
   "source": [
    "In year 1893 and 2018 only 1 platforms was opened but previously in 1864 it was 8 platforms"
   ]
  },
  {
   "cell_type": "code",
   "execution_count": 47,
   "id": "22ca604a",
   "metadata": {},
   "outputs": [
    {
     "data": {
      "image/png": "[encoded data removed]",
      "text/plain": [
       "<Figure size 432x288 with 1 Axes>"
      ]
     },
     "metadata": {
      "needs_background": "light"
     },
     "output_type": "display_data"
    }
   ],
   "source": [
    "sns.histplot(p3[[\"Year of Opening\"]],kde=True)\n",
    "plt.title(\"Fig= Year \")\n",
    "plt.show()"
   ]
  },
  {
   "cell_type": "markdown",
   "id": "f41e12c8",
   "metadata": {},
   "source": [
    "Devlopment was slow in starting years of 1860's but there was a consicutive downfall between 1915-1950. After 1950's there was slight growth."
   ]
  },
  {
   "cell_type": "code",
   "execution_count": 48,
   "id": "ac39b1fa",
   "metadata": {},
   "outputs": [
    {
     "data": {
      "image/png": "[encoded data removed]",
      "text/plain": [
       "<Figure size 432x288 with 1 Axes>"
      ]
     },
     "metadata": {
      "needs_background": "light"
     },
     "output_type": "display_data"
    }
   ],
   "source": [
    "sns.lineplot(x=\"Time taken From Previous of the Line(min)\",y=\"Distance From Previous of the Line(KM)\",data=p3,)\n",
    "plt.title(\"Fig=Distances Vs Times\")\n",
    "plt.grid()\n",
    "plt.show()"
   ]
  },
  {
   "cell_type": "markdown",
   "id": "2a22b7a6",
   "metadata": {},
   "source": [
    "speed of train is varying (slow) and the congestion is high btw two station"
   ]
  },
  {
   "cell_type": "markdown",
   "id": "48fb1ec3",
   "metadata": {},
   "source": [
    "# Analysing the Diva-Roha Line"
   ]
  },
  {
   "cell_type": "code",
   "execution_count": 49,
   "id": "a7a20609",
   "metadata": {},
   "outputs": [],
   "source": [
    "p4=lineGroupBy.get_group(\"Diva-Roha\")"
   ]
  },
  {
   "cell_type": "code",
   "execution_count": 50,
   "id": "994595c5",
   "metadata": {},
   "outputs": [
    {
     "data": {
      "text/html": [
       "<div>\n",
       "<style scoped>\n",
       "    .dataframe tbody tr th:only-of-type {\n",
       "        vertical-align: middle;\n",
       "    }\n",
       "\n",
       "    .dataframe tbody tr th {\n",
       "        vertical-align: top;\n",
       "    }\n",
       "\n",
       "    .dataframe thead th {\n",
       "        text-align: right;\n",
       "    }\n",
       "</style>\n",
       "<table border=\"1\" class=\"dataframe\">\n",
       "  <thead>\n",
       "    <tr style=\"text-align: right;\">\n",
       "      <th></th>\n",
       "      <th>Station</th>\n",
       "      <th>Station Code</th>\n",
       "      <th>Line</th>\n",
       "      <th>Distance From Previous of the Line(KM)</th>\n",
       "      <th>Time taken From Previous of the Line(min)</th>\n",
       "      <th>About</th>\n",
       "      <th>Platforms</th>\n",
       "      <th>Tracks</th>\n",
       "      <th>Year of Opening</th>\n",
       "    </tr>\n",
       "  </thead>\n",
       "  <tbody>\n",
       "    <tr>\n",
       "      <th>158</th>\n",
       "      <td>Diva Jn</td>\n",
       "      <td>DIVA</td>\n",
       "      <td>Diva-Roha</td>\n",
       "      <td>0</td>\n",
       "      <td>0</td>\n",
       "      <td>Diva Junction railway station is a junction be...</td>\n",
       "      <td>8</td>\n",
       "      <td>13</td>\n",
       "      <td>1877</td>\n",
       "    </tr>\n",
       "    <tr>\n",
       "      <th>159</th>\n",
       "      <td>Dativali</td>\n",
       "      <td>DTVL</td>\n",
       "      <td>Diva-Roha</td>\n",
       "      <td>2</td>\n",
       "      <td>5</td>\n",
       "      <td>Dativali is a railway station on the Vasai Roa...</td>\n",
       "      <td>3</td>\n",
       "      <td>2</td>\n",
       "      <td>2017</td>\n",
       "    </tr>\n",
       "  </tbody>\n",
       "</table>\n",
       "</div>"
      ],
      "text/plain": [
       "      Station Station Code       Line  Distance From Previous of the Line(KM)  \\\n",
       "158   Diva Jn         DIVA  Diva-Roha                                       0   \n",
       "159  Dativali         DTVL  Diva-Roha                                       2   \n",
       "\n",
       "     Time taken From Previous of the Line(min)  \\\n",
       "158                                          0   \n",
       "159                                          5   \n",
       "\n",
       "                                                 About  Platforms  Tracks  \\\n",
       "158  Diva Junction railway station is a junction be...          8      13   \n",
       "159  Dativali is a railway station on the Vasai Roa...          3       2   \n",
       "\n",
       "     Year of Opening  \n",
       "158             1877  \n",
       "159             2017  "
      ]
     },
     "execution_count": 50,
     "metadata": {},
     "output_type": "execute_result"
    }
   ],
   "source": [
    "p4.head(2)"
   ]
  },
  {
   "cell_type": "code",
   "execution_count": 51,
   "id": "fd18485c",
   "metadata": {},
   "outputs": [
    {
     "data": {
      "image/png": "[encoded data removed]",
      "text/plain": [
       "<Figure size 432x288 with 1 Axes>"
      ]
     },
     "metadata": {
      "needs_background": "light"
     },
     "output_type": "display_data"
    }
   ],
   "source": [
    "p4a=sns.barplot(x=\"Year of Opening\",y=\"Tracks\",data=p4)\n",
    "p4a.set_xticklabels(p4a.get_xticklabels(),rotation=90)\n",
    "plt.title(\"Fig= Year vs Tracks \")\n",
    "plt.show()"
   ]
  },
  {
   "cell_type": "code",
   "execution_count": 52,
   "id": "6c9932db",
   "metadata": {},
   "outputs": [
    {
     "data": {
      "text/plain": [
       "5.357142857142857"
      ]
     },
     "execution_count": 52,
     "metadata": {},
     "output_type": "execute_result"
    }
   ],
   "source": [
    "p4['Tracks'].mean()"
   ]
  },
  {
   "cell_type": "markdown",
   "id": "49d73f89",
   "metadata": {},
   "source": [
    "In year 2017 only 2 track was opened but previously in 1877 it was more than 12 tracks"
   ]
  },
  {
   "cell_type": "code",
   "execution_count": 53,
   "id": "abc55cde",
   "metadata": {},
   "outputs": [
    {
     "data": {
      "image/png": "[encoded data removed]",
      "text/plain": [
       "<Figure size 432x288 with 1 Axes>"
      ]
     },
     "metadata": {
      "needs_background": "light"
     },
     "output_type": "display_data"
    }
   ],
   "source": [
    "p4b=sns.barplot(x=\"Year of Opening\",y=\"Platforms\",data=p4)\n",
    "p4b.set_xticklabels(p4b.get_xticklabels(),rotation=90)\n",
    "plt.title(\"Fig=Year vs Platforms\")\n",
    "plt.show()"
   ]
  },
  {
   "cell_type": "code",
   "execution_count": 54,
   "id": "2ac1f786",
   "metadata": {},
   "outputs": [
    {
     "data": {
      "text/plain": [
       "3.0714285714285716"
      ]
     },
     "execution_count": 54,
     "metadata": {},
     "output_type": "execute_result"
    }
   ],
   "source": [
    "p4['Platforms'].mean()"
   ]
  },
  {
   "cell_type": "markdown",
   "id": "60553ec6",
   "metadata": {},
   "source": [
    "In year 1863,2009,2023 and 2024 only 1 platform was opened but previously in 1877 it was 8 platforms"
   ]
  },
  {
   "cell_type": "code",
   "execution_count": 55,
   "id": "58b62549",
   "metadata": {},
   "outputs": [
    {
     "data": {
      "image/png": "[encoded data removed]",
      "text/plain": [
       "<Figure size 432x288 with 1 Axes>"
      ]
     },
     "metadata": {
      "needs_background": "light"
     },
     "output_type": "display_data"
    }
   ],
   "source": [
    "sns.histplot(p4[[\"Year of Opening\"]],kde=True)\n",
    "plt.title(\"Fig= Year \")\n",
    "plt.show()"
   ]
  },
  {
   "cell_type": "markdown",
   "id": "bdabee80",
   "metadata": {},
   "source": [
    "Devlopment was slow in starting years of 1860's but there was a consicutive downfall between 1890-1960. After 1960's there was slight growth."
   ]
  },
  {
   "cell_type": "code",
   "execution_count": 56,
   "id": "11452566",
   "metadata": {},
   "outputs": [
    {
     "data": {
      "image/png": "[encoded data removed]",
      "text/plain": [
       "<Figure size 432x288 with 1 Axes>"
      ]
     },
     "metadata": {
      "needs_background": "light"
     },
     "output_type": "display_data"
    }
   ],
   "source": [
    "sns.lineplot(x=\"Time taken From Previous of the Line(min)\",y=\"Distance From Previous of the Line(KM)\",data=p4,)\n",
    "plt.title(\"Fig=Distances Vs Times\")\n",
    "plt.grid()\n",
    "plt.show()"
   ]
  },
  {
   "cell_type": "markdown",
   "id": "4617c24e",
   "metadata": {},
   "source": [
    "speed of train is varying (slow) and the congestion is high btw two station"
   ]
  },
  {
   "cell_type": "markdown",
   "id": "508ccf1e",
   "metadata": {},
   "source": [
    "# Analysing the Harbour  Line"
   ]
  },
  {
   "cell_type": "code",
   "execution_count": 57,
   "id": "d799b2f4",
   "metadata": {},
   "outputs": [],
   "source": [
    "p5=lineGroupBy.get_group(\"Harbour\")"
   ]
  },
  {
   "cell_type": "code",
   "execution_count": 58,
   "id": "49553599",
   "metadata": {},
   "outputs": [
    {
     "data": {
      "text/html": [
       "<div>\n",
       "<style scoped>\n",
       "    .dataframe tbody tr th:only-of-type {\n",
       "        vertical-align: middle;\n",
       "    }\n",
       "\n",
       "    .dataframe tbody tr th {\n",
       "        vertical-align: top;\n",
       "    }\n",
       "\n",
       "    .dataframe thead th {\n",
       "        text-align: right;\n",
       "    }\n",
       "</style>\n",
       "<table border=\"1\" class=\"dataframe\">\n",
       "  <thead>\n",
       "    <tr style=\"text-align: right;\">\n",
       "      <th></th>\n",
       "      <th>Station</th>\n",
       "      <th>Station Code</th>\n",
       "      <th>Line</th>\n",
       "      <th>Distance From Previous of the Line(KM)</th>\n",
       "      <th>Time taken From Previous of the Line(min)</th>\n",
       "      <th>About</th>\n",
       "      <th>Platforms</th>\n",
       "      <th>Tracks</th>\n",
       "      <th>Year of Opening</th>\n",
       "    </tr>\n",
       "  </thead>\n",
       "  <tbody>\n",
       "    <tr>\n",
       "      <th>114</th>\n",
       "      <td>CSMT</td>\n",
       "      <td>CSMT/ST</td>\n",
       "      <td>Harbour</td>\n",
       "      <td>0</td>\n",
       "      <td>0</td>\n",
       "      <td>Chhatrapati Shivaji Terminus (officially Chhat...</td>\n",
       "      <td>7</td>\n",
       "      <td>7</td>\n",
       "      <td>1878</td>\n",
       "    </tr>\n",
       "    <tr>\n",
       "      <th>115</th>\n",
       "      <td>Masjid</td>\n",
       "      <td>MSD</td>\n",
       "      <td>Harbour</td>\n",
       "      <td>1</td>\n",
       "      <td>3</td>\n",
       "      <td>Masjid (station code: MSD) is a railway statio...</td>\n",
       "      <td>4</td>\n",
       "      <td>6</td>\n",
       "      <td>1877</td>\n",
       "    </tr>\n",
       "  </tbody>\n",
       "</table>\n",
       "</div>"
      ],
      "text/plain": [
       "    Station Station Code     Line  Distance From Previous of the Line(KM)  \\\n",
       "114    CSMT      CSMT/ST  Harbour                                       0   \n",
       "115  Masjid          MSD  Harbour                                       1   \n",
       "\n",
       "     Time taken From Previous of the Line(min)  \\\n",
       "114                                          0   \n",
       "115                                          3   \n",
       "\n",
       "                                                 About  Platforms  Tracks  \\\n",
       "114  Chhatrapati Shivaji Terminus (officially Chhat...          7       7   \n",
       "115  Masjid (station code: MSD) is a railway statio...          4       6   \n",
       "\n",
       "     Year of Opening  \n",
       "114             1878  \n",
       "115             1877  "
      ]
     },
     "execution_count": 58,
     "metadata": {},
     "output_type": "execute_result"
    }
   ],
   "source": [
    "p5.head(2)"
   ]
  },
  {
   "cell_type": "code",
   "execution_count": 59,
   "id": "2799a865",
   "metadata": {},
   "outputs": [
    {
     "data": {
      "image/png": "[encoded data removed]",
      "text/plain": [
       "<Figure size 432x288 with 1 Axes>"
      ]
     },
     "metadata": {
      "needs_background": "light"
     },
     "output_type": "display_data"
    }
   ],
   "source": [
    "p5a=sns.barplot(x=\"Year of Opening\",y=\"Tracks\",data=p5)\n",
    "p5a.set_xticklabels(p5a.get_xticklabels(),rotation=90)\n",
    "plt.title(\"Fig= Year vs Tracks \")\n",
    "plt.show()"
   ]
  },
  {
   "cell_type": "code",
   "execution_count": 60,
   "id": "0692d945",
   "metadata": {},
   "outputs": [
    {
     "data": {
      "text/plain": [
       "3.8"
      ]
     },
     "execution_count": 60,
     "metadata": {},
     "output_type": "execute_result"
    }
   ],
   "source": [
    "p5['Tracks'].mean()"
   ]
  },
  {
   "cell_type": "markdown",
   "id": "2c4d7f28",
   "metadata": {},
   "source": [
    "In year 1906,1910,2004 and 2008 only 2 platform was opened but previously in 1962 it was 10 platforms"
   ]
  },
  {
   "cell_type": "code",
   "execution_count": 61,
   "id": "6e2f155c",
   "metadata": {},
   "outputs": [
    {
     "data": {
      "image/png": "[encoded data removed]",
      "text/plain": [
       "<Figure size 432x288 with 1 Axes>"
      ]
     },
     "metadata": {
      "needs_background": "light"
     },
     "output_type": "display_data"
    }
   ],
   "source": [
    "p5b=sns.barplot(x=\"Year of Opening\",y=\"Platforms\",data=p5)\n",
    "p5b.set_xticklabels(p5b.get_xticklabels(),rotation=90)\n",
    "plt.title(\"Fig=Year vs Platforms\")\n",
    "plt.show()"
   ]
  },
  {
   "cell_type": "code",
   "execution_count": 62,
   "id": "9649a613",
   "metadata": {},
   "outputs": [
    {
     "data": {
      "text/plain": [
       "3.6"
      ]
     },
     "execution_count": 62,
     "metadata": {},
     "output_type": "execute_result"
    }
   ],
   "source": [
    "p5['Platforms'].mean()"
   ]
  },
  {
   "cell_type": "markdown",
   "id": "4e8a8325",
   "metadata": {},
   "source": [
    "In year 2004 only 2 platform was opened but previously in 1879 it was 8 platforms"
   ]
  },
  {
   "cell_type": "code",
   "execution_count": 63,
   "id": "f72d57ba",
   "metadata": {},
   "outputs": [
    {
     "data": {
      "image/png": "[encoded data removed]",
      "text/plain": [
       "<Figure size 432x288 with 1 Axes>"
      ]
     },
     "metadata": {
      "needs_background": "light"
     },
     "output_type": "display_data"
    }
   ],
   "source": [
    "sns.histplot(p5[[\"Year of Opening\"]],kde=True)\n",
    "plt.title(\"Fig= Year \")\n",
    "plt.show()"
   ]
  },
  {
   "cell_type": "markdown",
   "id": "3ba316b3",
   "metadata": {},
   "source": [
    "Development growth is satisfactory "
   ]
  },
  {
   "cell_type": "code",
   "execution_count": 64,
   "id": "c157790b",
   "metadata": {},
   "outputs": [
    {
     "data": {
      "image/png": "[encoded data removed]",
      "text/plain": [
       "<Figure size 432x288 with 1 Axes>"
      ]
     },
     "metadata": {
      "needs_background": "light"
     },
     "output_type": "display_data"
    }
   ],
   "source": [
    "sns.lineplot(x=\"Time taken From Previous of the Line(min)\",y=\"Distance From Previous of the Line(KM)\",data=p5,)\n",
    "plt.title(\"Fig=Distances Vs Times\")\n",
    "plt.grid()\n",
    "plt.show()"
   ]
  },
  {
   "cell_type": "markdown",
   "id": "c6458226",
   "metadata": {},
   "source": [
    "speed of train is varying and the congestion is low btw two station"
   ]
  },
  {
   "cell_type": "markdown",
   "id": "2b47cfb9",
   "metadata": {},
   "source": [
    "# Analysing the Neral-Matheran Line"
   ]
  },
  {
   "cell_type": "code",
   "execution_count": 65,
   "id": "6a12fe1a",
   "metadata": {},
   "outputs": [],
   "source": [
    "p6=lineGroupBy.get_group(\"Neral-Matheran\")"
   ]
  },
  {
   "cell_type": "code",
   "execution_count": 66,
   "id": "a12c2971",
   "metadata": {},
   "outputs": [
    {
     "data": {
      "text/html": [
       "<div>\n",
       "<style scoped>\n",
       "    .dataframe tbody tr th:only-of-type {\n",
       "        vertical-align: middle;\n",
       "    }\n",
       "\n",
       "    .dataframe tbody tr th {\n",
       "        vertical-align: top;\n",
       "    }\n",
       "\n",
       "    .dataframe thead th {\n",
       "        text-align: right;\n",
       "    }\n",
       "</style>\n",
       "<table border=\"1\" class=\"dataframe\">\n",
       "  <thead>\n",
       "    <tr style=\"text-align: right;\">\n",
       "      <th></th>\n",
       "      <th>Station</th>\n",
       "      <th>Station Code</th>\n",
       "      <th>Line</th>\n",
       "      <th>Distance From Previous of the Line(KM)</th>\n",
       "      <th>Time taken From Previous of the Line(min)</th>\n",
       "      <th>About</th>\n",
       "      <th>Platforms</th>\n",
       "      <th>Tracks</th>\n",
       "      <th>Year of Opening</th>\n",
       "    </tr>\n",
       "  </thead>\n",
       "  <tbody>\n",
       "    <tr>\n",
       "      <th>197</th>\n",
       "      <td>Neral</td>\n",
       "      <td>NRL</td>\n",
       "      <td>Neral-Matheran</td>\n",
       "      <td>0</td>\n",
       "      <td>0</td>\n",
       "      <td>Neral Junction is a railway station on the Cen...</td>\n",
       "      <td>2</td>\n",
       "      <td>2</td>\n",
       "      <td>1887</td>\n",
       "    </tr>\n",
       "  </tbody>\n",
       "</table>\n",
       "</div>"
      ],
      "text/plain": [
       "    Station Station Code            Line  \\\n",
       "197   Neral          NRL  Neral-Matheran   \n",
       "\n",
       "     Distance From Previous of the Line(KM)  \\\n",
       "197                                       0   \n",
       "\n",
       "     Time taken From Previous of the Line(min)  \\\n",
       "197                                          0   \n",
       "\n",
       "                                                 About  Platforms  Tracks  \\\n",
       "197  Neral Junction is a railway station on the Cen...          2       2   \n",
       "\n",
       "     Year of Opening  \n",
       "197             1887  "
      ]
     },
     "execution_count": 66,
     "metadata": {},
     "output_type": "execute_result"
    }
   ],
   "source": [
    "p6.head(8)"
   ]
  },
  {
   "cell_type": "markdown",
   "id": "585f6340",
   "metadata": {},
   "source": [
    "# Analysing the Trans Harbour Line|"
   ]
  },
  {
   "cell_type": "code",
   "execution_count": 68,
   "id": "8be94e4c",
   "metadata": {},
   "outputs": [],
   "source": [
    "p7=lineGroupBy.get_group(\"Trans Harbour\")"
   ]
  },
  {
   "cell_type": "code",
   "execution_count": 69,
   "id": "f01d98b4",
   "metadata": {},
   "outputs": [
    {
     "data": {
      "text/html": [
       "<div>\n",
       "<style scoped>\n",
       "    .dataframe tbody tr th:only-of-type {\n",
       "        vertical-align: middle;\n",
       "    }\n",
       "\n",
       "    .dataframe tbody tr th {\n",
       "        vertical-align: top;\n",
       "    }\n",
       "\n",
       "    .dataframe thead th {\n",
       "        text-align: right;\n",
       "    }\n",
       "</style>\n",
       "<table border=\"1\" class=\"dataframe\">\n",
       "  <thead>\n",
       "    <tr style=\"text-align: right;\">\n",
       "      <th></th>\n",
       "      <th>Station</th>\n",
       "      <th>Station Code</th>\n",
       "      <th>Line</th>\n",
       "      <th>Distance From Previous of the Line(KM)</th>\n",
       "      <th>Time taken From Previous of the Line(min)</th>\n",
       "      <th>About</th>\n",
       "      <th>Platforms</th>\n",
       "      <th>Tracks</th>\n",
       "      <th>Year of Opening</th>\n",
       "    </tr>\n",
       "  </thead>\n",
       "  <tbody>\n",
       "    <tr>\n",
       "      <th>139</th>\n",
       "      <td>Thane</td>\n",
       "      <td>TNA</td>\n",
       "      <td>Trans Harbour</td>\n",
       "      <td>0</td>\n",
       "      <td>0</td>\n",
       "      <td>Thane (formerly Thana, station code: TNA) is a...</td>\n",
       "      <td>10</td>\n",
       "      <td>10</td>\n",
       "      <td>1853</td>\n",
       "    </tr>\n",
       "    <tr>\n",
       "      <th>140</th>\n",
       "      <td>Airoli</td>\n",
       "      <td>AIRL</td>\n",
       "      <td>Trans Harbour</td>\n",
       "      <td>8</td>\n",
       "      <td>8</td>\n",
       "      <td>Airoli is a railway station on the Harbour lin...</td>\n",
       "      <td>2</td>\n",
       "      <td>2</td>\n",
       "      <td>2004</td>\n",
       "    </tr>\n",
       "    <tr>\n",
       "      <th>141</th>\n",
       "      <td>Rabale</td>\n",
       "      <td>RABE</td>\n",
       "      <td>Trans Harbour</td>\n",
       "      <td>3</td>\n",
       "      <td>3</td>\n",
       "      <td>Rabale is a railway station on the Harbour lin...</td>\n",
       "      <td>2</td>\n",
       "      <td>2</td>\n",
       "      <td>2007</td>\n",
       "    </tr>\n",
       "    <tr>\n",
       "      <th>142</th>\n",
       "      <td>Ghansoli</td>\n",
       "      <td>GNSL</td>\n",
       "      <td>Trans Harbour</td>\n",
       "      <td>3</td>\n",
       "      <td>3</td>\n",
       "      <td>Ghansoli is a railway station on the Harbour l...</td>\n",
       "      <td>2</td>\n",
       "      <td>2</td>\n",
       "      <td>2000</td>\n",
       "    </tr>\n",
       "    <tr>\n",
       "      <th>143</th>\n",
       "      <td>Koparkhairane</td>\n",
       "      <td>KPHN</td>\n",
       "      <td>Trans Harbour</td>\n",
       "      <td>3</td>\n",
       "      <td>3</td>\n",
       "      <td>Koparkhairane is a railway station[1][2] (KPHN...</td>\n",
       "      <td>2</td>\n",
       "      <td>2</td>\n",
       "      <td>2004</td>\n",
       "    </tr>\n",
       "  </tbody>\n",
       "</table>\n",
       "</div>"
      ],
      "text/plain": [
       "           Station Station Code           Line  \\\n",
       "139          Thane          TNA  Trans Harbour   \n",
       "140         Airoli         AIRL  Trans Harbour   \n",
       "141         Rabale         RABE  Trans Harbour   \n",
       "142       Ghansoli         GNSL  Trans Harbour   \n",
       "143  Koparkhairane         KPHN  Trans Harbour   \n",
       "\n",
       "     Distance From Previous of the Line(KM)  \\\n",
       "139                                       0   \n",
       "140                                       8   \n",
       "141                                       3   \n",
       "142                                       3   \n",
       "143                                       3   \n",
       "\n",
       "     Time taken From Previous of the Line(min)  \\\n",
       "139                                          0   \n",
       "140                                          8   \n",
       "141                                          3   \n",
       "142                                          3   \n",
       "143                                          3   \n",
       "\n",
       "                                                 About  Platforms  Tracks  \\\n",
       "139  Thane (formerly Thana, station code: TNA) is a...         10      10   \n",
       "140  Airoli is a railway station on the Harbour lin...          2       2   \n",
       "141  Rabale is a railway station on the Harbour lin...          2       2   \n",
       "142  Ghansoli is a railway station on the Harbour l...          2       2   \n",
       "143  Koparkhairane is a railway station[1][2] (KPHN...          2       2   \n",
       "\n",
       "     Year of Opening  \n",
       "139             1853  \n",
       "140             2004  \n",
       "141             2007  \n",
       "142             2000  \n",
       "143             2004  "
      ]
     },
     "execution_count": 69,
     "metadata": {},
     "output_type": "execute_result"
    }
   ],
   "source": [
    "p7.head()"
   ]
  },
  {
   "cell_type": "code",
   "execution_count": 70,
   "id": "758d0ac8",
   "metadata": {},
   "outputs": [
    {
     "data": {
      "image/png": "[encoded data removed]",
      "text/plain": [
       "<Figure size 432x288 with 1 Axes>"
      ]
     },
     "metadata": {
      "needs_background": "light"
     },
     "output_type": "display_data"
    }
   ],
   "source": [
    "p7a=sns.barplot(x=\"Year of Opening\",y=\"Tracks\",data=p7)\n",
    "p7a.set_xticklabels(p7a.get_xticklabels(),rotation=90)\n",
    "plt.title(\"Fig= Year vs Tracks \")\n",
    "plt.show()"
   ]
  },
  {
   "cell_type": "code",
   "execution_count": 71,
   "id": "c1350754",
   "metadata": {},
   "outputs": [
    {
     "data": {
      "text/plain": [
       "4.142857142857143"
      ]
     },
     "execution_count": 71,
     "metadata": {},
     "output_type": "execute_result"
    }
   ],
   "source": [
    "p7['Tracks'].mean()"
   ]
  },
  {
   "cell_type": "markdown",
   "id": "ca08e34a",
   "metadata": {},
   "source": [
    "In year 2004,2007 and 2008 only 2 track was opened but previously in 1853 and 1962 it was 10 tracks"
   ]
  },
  {
   "cell_type": "code",
   "execution_count": 72,
   "id": "fda216f8",
   "metadata": {},
   "outputs": [
    {
     "data": {
      "image/png": "[encoded data removed]",
      "text/plain": [
       "<Figure size 432x288 with 1 Axes>"
      ]
     },
     "metadata": {
      "needs_background": "light"
     },
     "output_type": "display_data"
    }
   ],
   "source": [
    "p7b=sns.barplot(x=\"Year of Opening\",y=\"Platforms\",data=p7)\n",
    "p7b.set_xticklabels(p7b.get_xticklabels(),rotation=90)\n",
    "plt.title(\"Fig=Year vs Platforms\")\n",
    "plt.show()"
   ]
  },
  {
   "cell_type": "code",
   "execution_count": 73,
   "id": "de3ff6a9",
   "metadata": {},
   "outputs": [
    {
     "data": {
      "text/plain": [
       "4.071428571428571"
      ]
     },
     "execution_count": 73,
     "metadata": {},
     "output_type": "execute_result"
    }
   ],
   "source": [
    "p7['Platforms'].mean()"
   ]
  },
  {
   "cell_type": "markdown",
   "id": "7550bcd7",
   "metadata": {},
   "source": [
    "In year 2004,2007 and 2008 only 4 platform was opened but previously in 1853 it was 10 platforms"
   ]
  },
  {
   "cell_type": "code",
   "execution_count": 74,
   "id": "d8f1dcc5",
   "metadata": {},
   "outputs": [
    {
     "data": {
      "image/png": "[encoded data removed]",
      "text/plain": [
       "<Figure size 432x288 with 1 Axes>"
      ]
     },
     "metadata": {
      "needs_background": "light"
     },
     "output_type": "display_data"
    }
   ],
   "source": [
    "sns.histplot(p7[\"Year of Opening\"],kde=True)\n",
    "plt.title(\"Fig= Year \")\n",
    "plt.show()"
   ]
  },
  {
   "cell_type": "markdown",
   "id": "6096ab76",
   "metadata": {},
   "source": [
    "Trans Harbour was neglected by the authority and devleopment take place very late"
   ]
  },
  {
   "cell_type": "code",
   "execution_count": 75,
   "id": "85a7106c",
   "metadata": {},
   "outputs": [
    {
     "data": {
      "image/png": "[encoded data removed]",
      "text/plain": [
       "<Figure size 432x288 with 1 Axes>"
      ]
     },
     "metadata": {
      "needs_background": "light"
     },
     "output_type": "display_data"
    }
   ],
   "source": [
    "sns.lineplot(x=\"Time taken From Previous of the Line(min)\",y=\"Distance From Previous of the Line(KM)\",data=p7,)\n",
    "plt.title(\"Fig=Distances Vs Times\")\n",
    "plt.grid()\n",
    "plt.show()"
   ]
  },
  {
   "cell_type": "markdown",
   "id": "cdf771af",
   "metadata": {},
   "source": [
    "speed of train is constant and the congestion is zero btw two station"
   ]
  },
  {
   "cell_type": "markdown",
   "id": "d4eb577c",
   "metadata": {},
   "source": [
    "# Analysing the Uran  Line"
   ]
  },
  {
   "cell_type": "code",
   "execution_count": 76,
   "id": "c5f64af5",
   "metadata": {},
   "outputs": [],
   "source": [
    "p8=lineGroupBy.get_group(\"Uran\")"
   ]
  },
  {
   "cell_type": "code",
   "execution_count": 77,
   "id": "50be9dd3",
   "metadata": {},
   "outputs": [
    {
     "data": {
      "text/html": [
       "<div>\n",
       "<style scoped>\n",
       "    .dataframe tbody tr th:only-of-type {\n",
       "        vertical-align: middle;\n",
       "    }\n",
       "\n",
       "    .dataframe tbody tr th {\n",
       "        vertical-align: top;\n",
       "    }\n",
       "\n",
       "    .dataframe thead th {\n",
       "        text-align: right;\n",
       "    }\n",
       "</style>\n",
       "<table border=\"1\" class=\"dataframe\">\n",
       "  <thead>\n",
       "    <tr style=\"text-align: right;\">\n",
       "      <th></th>\n",
       "      <th>Station</th>\n",
       "      <th>Station Code</th>\n",
       "      <th>Line</th>\n",
       "      <th>Distance From Previous of the Line(KM)</th>\n",
       "      <th>Time taken From Previous of the Line(min)</th>\n",
       "      <th>About</th>\n",
       "      <th>Platforms</th>\n",
       "      <th>Tracks</th>\n",
       "      <th>Year of Opening</th>\n",
       "    </tr>\n",
       "  </thead>\n",
       "  <tbody>\n",
       "    <tr>\n",
       "      <th>153</th>\n",
       "      <td>Nerul</td>\n",
       "      <td>NEU</td>\n",
       "      <td>Uran</td>\n",
       "      <td>0</td>\n",
       "      <td>0</td>\n",
       "      <td>Nerul is a railway station on the Harbour Line...</td>\n",
       "      <td>6</td>\n",
       "      <td>6</td>\n",
       "      <td>1993</td>\n",
       "    </tr>\n",
       "    <tr>\n",
       "      <th>154</th>\n",
       "      <td>Seawood Darave</td>\n",
       "      <td>SWDV</td>\n",
       "      <td>Uran</td>\n",
       "      <td>3</td>\n",
       "      <td>3</td>\n",
       "      <td>SeawoodsDarave or simply Seawoods is a newly ...</td>\n",
       "      <td>4</td>\n",
       "      <td>4</td>\n",
       "      <td>2018</td>\n",
       "    </tr>\n",
       "    <tr>\n",
       "      <th>155</th>\n",
       "      <td>Belapur CBD</td>\n",
       "      <td>BEPR</td>\n",
       "      <td>Uran</td>\n",
       "      <td>4</td>\n",
       "      <td>4</td>\n",
       "      <td>CBD Belapur is a railway station on the Harbou...</td>\n",
       "      <td>4</td>\n",
       "      <td>4</td>\n",
       "      <td>1994</td>\n",
       "    </tr>\n",
       "  </tbody>\n",
       "</table>\n",
       "</div>"
      ],
      "text/plain": [
       "            Station Station Code  Line  \\\n",
       "153           Nerul          NEU  Uran   \n",
       "154  Seawood Darave         SWDV  Uran   \n",
       "155     Belapur CBD         BEPR  Uran   \n",
       "\n",
       "     Distance From Previous of the Line(KM)  \\\n",
       "153                                       0   \n",
       "154                                       3   \n",
       "155                                       4   \n",
       "\n",
       "     Time taken From Previous of the Line(min)  \\\n",
       "153                                          0   \n",
       "154                                          3   \n",
       "155                                          4   \n",
       "\n",
       "                                                 About  Platforms  Tracks  \\\n",
       "153  Nerul is a railway station on the Harbour Line...          6       6   \n",
       "154  SeawoodsDarave or simply Seawoods is a newly ...          4       4   \n",
       "155  CBD Belapur is a railway station on the Harbou...          4       4   \n",
       "\n",
       "     Year of Opening  \n",
       "153             1993  \n",
       "154             2018  \n",
       "155             1994  "
      ]
     },
     "execution_count": 77,
     "metadata": {},
     "output_type": "execute_result"
    }
   ],
   "source": [
    "p8.head(3)"
   ]
  },
  {
   "cell_type": "code",
   "execution_count": 78,
   "id": "a6adeb43",
   "metadata": {},
   "outputs": [
    {
     "data": {
      "image/png": "[encoded data removed]",
      "text/plain": [
       "<Figure size 432x288 with 1 Axes>"
      ]
     },
     "metadata": {
      "needs_background": "light"
     },
     "output_type": "display_data"
    }
   ],
   "source": [
    "p8a=sns.barplot(x=\"Year of Opening\",y=\"Tracks\",data=p8)\n",
    "p8a.set_xticklabels(p8a.get_xticklabels(),rotation=90)\n",
    "plt.title(\"Fig= Year vs Tracks \")\n",
    "plt.show()"
   ]
  },
  {
   "cell_type": "code",
   "execution_count": 79,
   "id": "c65ed82e",
   "metadata": {},
   "outputs": [
    {
     "data": {
      "text/plain": [
       "3.6"
      ]
     },
     "execution_count": 79,
     "metadata": {},
     "output_type": "execute_result"
    }
   ],
   "source": [
    "p8['Tracks'].mean()"
   ]
  },
  {
   "cell_type": "markdown",
   "id": "480c0e2e",
   "metadata": {},
   "source": [
    "In year 2018 only more than 2 track was opened but previously in 1993 it was 6 tracks"
   ]
  },
  {
   "cell_type": "code",
   "execution_count": 80,
   "id": "c275d849",
   "metadata": {},
   "outputs": [
    {
     "data": {
      "image/png": "[encoded data removed]",
      "text/plain": [
       "<Figure size 432x288 with 1 Axes>"
      ]
     },
     "metadata": {
      "needs_background": "light"
     },
     "output_type": "display_data"
    }
   ],
   "source": [
    "p8b=sns.barplot(x=\"Year of Opening\",y=\"Platforms\",data=p8)\n",
    "p8b.set_xticklabels(p8b.get_xticklabels(),rotation=90)\n",
    "plt.title(\"Fig= Year vs Tracks \")\n",
    "plt.show()"
   ]
  },
  {
   "cell_type": "code",
   "execution_count": 81,
   "id": "e0238d08",
   "metadata": {},
   "outputs": [
    {
     "data": {
      "text/plain": [
       "3.6"
      ]
     },
     "execution_count": 81,
     "metadata": {},
     "output_type": "execute_result"
    }
   ],
   "source": [
    "p8['Platforms'].mean()"
   ]
  },
  {
   "cell_type": "markdown",
   "id": "b858ca7b",
   "metadata": {},
   "source": [
    "In year 2018 only 3 platform was opened but previously in 1993 it was 6 platforms"
   ]
  },
  {
   "cell_type": "code",
   "execution_count": 82,
   "id": "f051921a",
   "metadata": {},
   "outputs": [
    {
     "data": {
      "image/png": "[encoded data removed]",
      "text/plain": [
       "<Figure size 432x288 with 1 Axes>"
      ]
     },
     "metadata": {
      "needs_background": "light"
     },
     "output_type": "display_data"
    }
   ],
   "source": [
    "sns.histplot(p8[[\"Year of Opening\"]],kde=True)\n",
    "plt.title(\"Fig= Year \")\n",
    "plt.show()"
   ]
  },
  {
   "cell_type": "markdown",
   "id": "32ab617c",
   "metadata": {},
   "source": [
    "Devlopment was slow in starting years of 1990's but there was a consicutive downfall between 1990-2010. After 2020's there was slight growth. "
   ]
  },
  {
   "cell_type": "code",
   "execution_count": 83,
   "id": "a47cf4f3",
   "metadata": {},
   "outputs": [
    {
     "data": {
      "image/png": "[encoded data removed]",
      "text/plain": [
       "<Figure size 432x288 with 1 Axes>"
      ]
     },
     "metadata": {
      "needs_background": "light"
     },
     "output_type": "display_data"
    }
   ],
   "source": [
    "sns.lineplot(x=\"Time taken From Previous of the Line(min)\",y=\"Distance From Previous of the Line(KM)\",data=p8,)\n",
    "plt.title(\"Fig=Distances Vs Times\")\n",
    "plt.grid()\n",
    "plt.show()"
   ]
  },
  {
   "cell_type": "markdown",
   "id": "0a2a4fd8",
   "metadata": {},
   "source": [
    "speed of train is varying and the congestion is medium"
   ]
  },
  {
   "cell_type": "markdown",
   "id": "b2beb2d3",
   "metadata": {},
   "source": [
    "# Analysing the Western Line"
   ]
  },
  {
   "cell_type": "code",
   "execution_count": 84,
   "id": "31aaa4a9",
   "metadata": {},
   "outputs": [],
   "source": [
    "p9=lineGroupBy.get_group(\"Western\")"
   ]
  },
  {
   "cell_type": "code",
   "execution_count": 85,
   "id": "351f429e",
   "metadata": {},
   "outputs": [
    {
     "data": {
      "text/html": [
       "<div>\n",
       "<style scoped>\n",
       "    .dataframe tbody tr th:only-of-type {\n",
       "        vertical-align: middle;\n",
       "    }\n",
       "\n",
       "    .dataframe tbody tr th {\n",
       "        vertical-align: top;\n",
       "    }\n",
       "\n",
       "    .dataframe thead th {\n",
       "        text-align: right;\n",
       "    }\n",
       "</style>\n",
       "<table border=\"1\" class=\"dataframe\">\n",
       "  <thead>\n",
       "    <tr style=\"text-align: right;\">\n",
       "      <th></th>\n",
       "      <th>Station</th>\n",
       "      <th>Station Code</th>\n",
       "      <th>Line</th>\n",
       "      <th>Distance From Previous of the Line(KM)</th>\n",
       "      <th>Time taken From Previous of the Line(min)</th>\n",
       "      <th>About</th>\n",
       "      <th>Platforms</th>\n",
       "      <th>Tracks</th>\n",
       "      <th>Year of Opening</th>\n",
       "    </tr>\n",
       "  </thead>\n",
       "  <tbody>\n",
       "    <tr>\n",
       "      <th>0</th>\n",
       "      <td>Churchgate</td>\n",
       "      <td>CCG</td>\n",
       "      <td>Western</td>\n",
       "      <td>0</td>\n",
       "      <td>0</td>\n",
       "      <td>The Fort area built by the British had three m...</td>\n",
       "      <td>4</td>\n",
       "      <td>4</td>\n",
       "      <td>1867</td>\n",
       "    </tr>\n",
       "    <tr>\n",
       "      <th>1</th>\n",
       "      <td>Marine Lines</td>\n",
       "      <td>MEL</td>\n",
       "      <td>Western</td>\n",
       "      <td>1</td>\n",
       "      <td>3</td>\n",
       "      <td>Marine Lines (station code: MEL) is a railway ...</td>\n",
       "      <td>4</td>\n",
       "      <td>4</td>\n",
       "      <td>1867</td>\n",
       "    </tr>\n",
       "    <tr>\n",
       "      <th>2</th>\n",
       "      <td>Charni Road</td>\n",
       "      <td>CYR</td>\n",
       "      <td>Western</td>\n",
       "      <td>1</td>\n",
       "      <td>2</td>\n",
       "      <td>Charni Road (formerly Churney Road, station co...</td>\n",
       "      <td>4</td>\n",
       "      <td>4</td>\n",
       "      <td>1867</td>\n",
       "    </tr>\n",
       "    <tr>\n",
       "      <th>3</th>\n",
       "      <td>Grant Road</td>\n",
       "      <td>GTR</td>\n",
       "      <td>Western</td>\n",
       "      <td>1</td>\n",
       "      <td>3</td>\n",
       "      <td>Grant Road (/gra?nt/; station code: GTR), form...</td>\n",
       "      <td>4</td>\n",
       "      <td>4</td>\n",
       "      <td>1868</td>\n",
       "    </tr>\n",
       "    <tr>\n",
       "      <th>4</th>\n",
       "      <td>Mumbai Central</td>\n",
       "      <td>MMCT</td>\n",
       "      <td>Western</td>\n",
       "      <td>1</td>\n",
       "      <td>2</td>\n",
       "      <td>Mumbai Central (formerly Bombay Central, stati...</td>\n",
       "      <td>9</td>\n",
       "      <td>9</td>\n",
       "      <td>1930</td>\n",
       "    </tr>\n",
       "  </tbody>\n",
       "</table>\n",
       "</div>"
      ],
      "text/plain": [
       "          Station Station Code     Line  \\\n",
       "0      Churchgate          CCG  Western   \n",
       "1    Marine Lines          MEL  Western   \n",
       "2     Charni Road          CYR  Western   \n",
       "3      Grant Road          GTR  Western   \n",
       "4  Mumbai Central         MMCT  Western   \n",
       "\n",
       "   Distance From Previous of the Line(KM)  \\\n",
       "0                                       0   \n",
       "1                                       1   \n",
       "2                                       1   \n",
       "3                                       1   \n",
       "4                                       1   \n",
       "\n",
       "   Time taken From Previous of the Line(min)  \\\n",
       "0                                          0   \n",
       "1                                          3   \n",
       "2                                          2   \n",
       "3                                          3   \n",
       "4                                          2   \n",
       "\n",
       "                                               About  Platforms  Tracks  \\\n",
       "0  The Fort area built by the British had three m...          4       4   \n",
       "1  Marine Lines (station code: MEL) is a railway ...          4       4   \n",
       "2  Charni Road (formerly Churney Road, station co...          4       4   \n",
       "3  Grant Road (/gra?nt/; station code: GTR), form...          4       4   \n",
       "4  Mumbai Central (formerly Bombay Central, stati...          9       9   \n",
       "\n",
       "   Year of Opening  \n",
       "0             1867  \n",
       "1             1867  \n",
       "2             1867  \n",
       "3             1868  \n",
       "4             1930  "
      ]
     },
     "execution_count": 85,
     "metadata": {},
     "output_type": "execute_result"
    }
   ],
   "source": [
    "p9.head()"
   ]
  },
  {
   "cell_type": "code",
   "execution_count": 86,
   "id": "3c305a2f",
   "metadata": {},
   "outputs": [
    {
     "data": {
      "image/png": "[encoded data removed]",
      "text/plain": [
       "<Figure size 432x288 with 1 Axes>"
      ]
     },
     "metadata": {
      "needs_background": "light"
     },
     "output_type": "display_data"
    }
   ],
   "source": [
    "p9a=sns.barplot(x=\"Year of Opening\",y=\"Tracks\",data=p9)\n",
    "p9a.set_xticklabels(p9a.get_xticklabels(),rotation=90)\n",
    "plt.title(\"Fig= Year vs Tracks \")\n",
    "plt.show()"
   ]
  },
  {
   "cell_type": "code",
   "execution_count": 87,
   "id": "41e6a0be",
   "metadata": {},
   "outputs": [
    {
     "data": {
      "text/plain": [
       "5.833333333333333"
      ]
     },
     "execution_count": 87,
     "metadata": {},
     "output_type": "execute_result"
    }
   ],
   "source": [
    "p9['Tracks'].mean()"
   ]
  },
  {
   "cell_type": "markdown",
   "id": "33308b8f",
   "metadata": {},
   "source": [
    "In year 2018 only 1 track was opened but previously in 1864,1928,1930 it was more than 8 tracks"
   ]
  },
  {
   "cell_type": "code",
   "execution_count": 88,
   "id": "e0e1c2e1",
   "metadata": {},
   "outputs": [
    {
     "data": {
      "image/png": "[encoded data removed]",
      "text/plain": [
       "<Figure size 432x288 with 1 Axes>"
      ]
     },
     "metadata": {
      "needs_background": "light"
     },
     "output_type": "display_data"
    }
   ],
   "source": [
    "p9b=sns.barplot(x=\"Year of Opening\",y=\"Platforms\",data=p9)\n",
    "p9b.set_xticklabels(p9b.get_xticklabels(),rotation=90)\n",
    "plt.title(\"Fig=Year vs Platforms\")\n",
    "plt.show()"
   ]
  },
  {
   "cell_type": "code",
   "execution_count": 89,
   "id": "ec40809b",
   "metadata": {},
   "outputs": [
    {
     "data": {
      "text/plain": [
       "5.083333333333333"
      ]
     },
     "execution_count": 89,
     "metadata": {},
     "output_type": "execute_result"
    }
   ],
   "source": [
    "p9['Platforms'].mean()"
   ]
  },
  {
   "cell_type": "markdown",
   "id": "e81b4d37",
   "metadata": {},
   "source": [
    "In year 2018 only 1 platform was opened but previously in 1868 it was more than 8 platforms"
   ]
  },
  {
   "cell_type": "code",
   "execution_count": 90,
   "id": "16f76d3b",
   "metadata": {},
   "outputs": [
    {
     "data": {
      "image/png": "[encoded data removed]",
      "text/plain": [
       "<Figure size 432x288 with 1 Axes>"
      ]
     },
     "metadata": {
      "needs_background": "light"
     },
     "output_type": "display_data"
    }
   ],
   "source": [
    "sns.histplot(p9[\"Year of Opening\"],kde=True)\n",
    "plt.title(\"Fig= Year \")\n",
    "plt.show()"
   ]
  },
  {
   "cell_type": "markdown",
   "id": "34787de0",
   "metadata": {},
   "source": [
    "Devlopment was rapid in starting years of 1860's but there was a consicutive downfall between 1950-1970. After 1970's there was slight growth."
   ]
  },
  {
   "cell_type": "code",
   "execution_count": 91,
   "id": "4a878949",
   "metadata": {
    "scrolled": true
   },
   "outputs": [
    {
     "data": {
      "image/png": "[encoded data removed]",
      "text/plain": [
       "<Figure size 432x288 with 1 Axes>"
      ]
     },
     "metadata": {
      "needs_background": "light"
     },
     "output_type": "display_data"
    }
   ],
   "source": [
    "sns.lineplot(x=\"Time taken From Previous of the Line(min)\",y=\"Distance From Previous of the Line(KM)\",data=p9,)\n",
    "plt.title(\"Fig=Distances Vs Times\")\n",
    "plt.grid()\n",
    "plt.show()"
   ]
  },
  {
   "cell_type": "markdown",
   "id": "69a12bf7",
   "metadata": {},
   "source": [
    "speed of train is varying and the congestion is medium between two station"
   ]
  },
  {
   "cell_type": "markdown",
   "id": "7cfd708e",
   "metadata": {},
   "source": [
    "# Conclusion"
   ]
  },
  {
   "cell_type": "markdown",
   "id": "06435827",
   "metadata": {},
   "source": [
    "Central 1 and Harbour are most busiest line.\n",
    "\n",
    "some lines are not well growth there may be possible reasons:\n",
    "       \n",
    "       1-people consumption is low\n",
    "        \n",
    "        2-Lack of infrastructure\n",
    "        \n",
    "        3-Lack of budget allocation\n",
    "       \n",
    "       4-Connectivity of lines are not presents"
   ]
  }
 ],
 "metadata": {
  "kernelspec": {
   "display_name": "Python 3 (ipykernel)",
   "language": "python",
   "name": "python3"
  },
  "language_info": {
   "codemirror_mode": {
    "name": "ipython",
    "version": 3
   },
   "file_extension": ".py",
   "mimetype": "text/x-python",
   "name": "python",
   "nbconvert_exporter": "python",
   "pygments_lexer": "ipython3",
   "version": "3.9.7"
  }
 },
 "nbformat": 4,
 "nbformat_minor": 5
}
